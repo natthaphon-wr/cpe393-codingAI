{
  "cells": [
    {
      "cell_type": "markdown",
      "metadata": {
        "id": "view-in-github",
        "colab_type": "text"
      },
      "source": [
        "<a href=\"https://colab.research.google.com/github/natthaphon-wr/cpe393-codingAI/blob/main/Lab10_RL.ipynb\" target=\"_parent\"><img src=\"https://colab.research.google.com/assets/colab-badge.svg\" alt=\"Open In Colab\"/></a>"
      ]
    },
    {
      "cell_type": "markdown",
      "metadata": {
        "id": "B_hDqbGcEh8z"
      },
      "source": [
        "# Lab10 Introduction to Reinforcement Learning\n",
        "\n",
        "- Natthaphon Rotechanathamcharoen 62070501019\n",
        "\n",
        "## Lab Instruction\n",
        "\n",
        "This lab, we will implement an Q-learning agent that will solve the GridWorld problem. The objective of your agent is to maximize the reward by find the shortest path to the exit without stepping on a bomb or a cliff. The result will be compare with the randomly move agent.\n",
        "\n",
        "###The total lab score is 10 which will be evaluated as follows:\n",
        "\n",
        "- Creative  (Do as the instruction said. This include the model tuning section where you have to do a proper amount of tuning) - 4 points\n",
        "- Design of logic (No weired things in the process) - 2 points\n",
        "- Journaling (Communicate your thought process and discuss result & analyse in every step) - 4 points\n",
        "\n",
        "### Reinforcement Learning\n",
        "\n",
        "The reinforcement learning components:</br>\n",
        "<img src='https://github.com/fongfongfong/CPE_CodeInAI_Course_2018/blob/master/9_RL/img/rl.png?raw=1' width=500>\n",
        "\n",
        "- Reinforcement Learning Blog Post (Thai): <a href=\"https://medium.com/asquarelab/ep-1-reinforcement-learning-%E0%B9%80%E0%B8%9A%E0%B8%B7%E0%B9%89%E0%B8%AD%E0%B8%87%E0%B8%95%E0%B9%89%E0%B8%99-acfa9d42394c\"> Thammasorn, A-Square</a></br>\n",
        "- Reinforcement Learning Blog Post (Eng): <a href=\"http://adventuresinmachinelearning.com/reinforcement-learning-tutorial-python-keras/\"> Adventures in Machine Learning</a>\n",
        "\n",
        "### Temporal-Different Learning\n",
        "**Temporal-difference (TD) learning** is a combination of **Monte Carlo** ideas and **dynamic programming (DP)** ideas.</br>\n",
        "Like Monte Carlo methods, TD methods **can learn directly from raw experience without a model of the environment’s dynamics**.</br> \n",
        "Like DP, TD methods update estimates based in part on other learned estimates, **without waiting for a final outcome** (they bootstrap).</br>\n",
        "The relationship between TD, DP, and Monte Carlo methods is a recurring theme in the theory of reinforcement learning"
      ]
    },
    {
      "cell_type": "code",
      "execution_count": null,
      "metadata": {
        "id": "ooIUU9BMEh84"
      },
      "outputs": [],
      "source": [
        "# Setup \n",
        "import numpy as np\n",
        "import matplotlib.pyplot as plt\n",
        "%matplotlib inline\n",
        "import env"
      ]
    },
    {
      "cell_type": "markdown",
      "metadata": {
        "id": "_yqpG1jlEh86"
      },
      "source": [
        "### Environment - Cliff Gridworld\n",
        "\n",
        "The environment is a Cliff Gridworld, illustrated as follows: </br>\n",
        "\n",
        "<img src='https://github.com/fongfongfong/CPE_CodeInAI_Course_2018/blob/master/9_RL/img/grid.png?raw=1' width=500></br>\n",
        "\n",
        "The world is a 10x10 grid where the exit is at bottom right corner. The bomb is randomly generated around the exit.</br>\n",
        "The agent is randomly start around the top left corner section. </br>\n",
        "Each step count as -1. In other word, the more step your agent take, the more penalty you have.</br>\n",
        "If your agent move against the corner, your agent will move. If your agent step to the cliff, the penalty is -20, same as stepping into a bomb which get -10 penalty.</br>\n",
        "If your agent reach to the exit, you will recieve 20 reward.</br>\n",
        "\n",
        "The episode is end when your agent found a way out and get a reward or step on a bomb and get the penalty point.</br>\n",
        "Your agent is at the starting point when the new episode begin.\n",
        "\n",
        "```env.World```</br>\n",
        ">**Properties**\n",
        "- height: The height of a grid world\n",
        "- width: The width of a grid world\n",
        "- current_location: current location of your agent.\n",
        "- actions: a list of an available actions (up,down,left,right)</br>\n",
        "\n",
        ">**Methods**\n",
        "- ```available_actions()``` Get a set of available actions\n",
        "- ```move_agent(action)``` Move an agent to the given direction and return a reward of that action.\n",
        "- ```reset()``` Reset the state of the environment to the starting point.\n",
        "- ```end_state()``` Get the end state. Return True if the state is end. False, otherwise.\n",
        "- ```render()``` Show the current terran of the grid world"
      ]
    },
    {
      "cell_type": "code",
      "execution_count": null,
      "metadata": {
        "id": "vVzQ4g-PEh87"
      },
      "outputs": [],
      "source": [
        "# Initialize environment\n",
        "env = env.World()"
      ]
    },
    {
      "cell_type": "code",
      "execution_count": null,
      "metadata": {
        "colab": {
          "base_uri": "https://localhost:8080/"
        },
        "id": "m7U49AtoL1gk",
        "outputId": "1c6a9f00-adc4-43d2-ad34-81e34644d9cb"
      },
      "outputs": [
        {
          "output_type": "execute_result",
          "data": {
            "text/plain": [
              "array([[ -1.,  -1.,  -1.,  -1., -20., -20., -20., -20., -20.,  -1.],\n",
              "       [ -1.,  -1.,  -1.,  -1., -20., -20., -20., -20., -20.,  -1.],\n",
              "       [ -1.,  -1.,  -1.,  -1.,  -1.,  -1.,  -1.,  -1.,  -1.,  -1.],\n",
              "       [ -1.,  -1.,  -1.,  -1.,  -1.,  -1.,  -1.,  -1.,  -1.,  -1.],\n",
              "       [ -1.,  -1.,  -1.,  -1.,  -1.,  -1.,  -1.,  -1.,  -1.,  -1.],\n",
              "       [ -1.,  -1.,  -1.,  -1., -20.,  -1.,  -1.,  -1.,  -1.,  -1.],\n",
              "       [ -1.,  -1.,  -1.,  -1., -20., -10.,  -1., -10.,  -1.,  -1.],\n",
              "       [ -1.,  -1.,  -1.,  -1., -20.,  -1.,  -1.,  -1.,  -1.,  -1.],\n",
              "       [ -1.,  -1.,  -1.,  -1., -20.,  -1.,  -1.,  -1., -20.,  -1.],\n",
              "       [ -1.,  -1.,  -1.,  -1., -20.,  -1.,  -1.,  -1.,  -1.,  20.]])"
            ]
          },
          "metadata": {},
          "execution_count": 3
        }
      ],
      "source": [
        "env.grid"
      ]
    },
    {
      "cell_type": "code",
      "execution_count": null,
      "metadata": {
        "colab": {
          "base_uri": "https://localhost:8080/"
        },
        "id": "HjDZzC17L1gl",
        "outputId": "3bed85bc-36f4-4301-ee16-187b95d18110"
      },
      "outputs": [
        {
          "output_type": "execute_result",
          "data": {
            "text/plain": [
              "array([[  0.,   0.,   0.,   0., -20., -20., -20., -20., -20.,   0.],\n",
              "       [  0.,   0.,   1.,   0., -20., -20., -20., -20., -20.,   0.],\n",
              "       [  0.,   0.,   0.,   0.,   0.,   0.,   0.,   0.,   0.,   0.],\n",
              "       [  0.,   0.,   0.,   0.,   0.,   0.,   0.,   0.,   0.,   0.],\n",
              "       [  0.,   0.,   0.,   0.,   0.,   0.,   0.,   0.,   0.,   0.],\n",
              "       [  0.,   0.,   0.,   0., -20.,   0.,   0.,   0.,   0.,   0.],\n",
              "       [  0.,   0.,   0.,   0., -20., -10.,   0., -10.,   0.,   0.],\n",
              "       [  0.,   0.,   0.,   0., -20.,   0.,   0.,   0.,   0.,   0.],\n",
              "       [  0.,   0.,   0.,   0., -20.,   0.,   0.,   0., -20.,   0.],\n",
              "       [  0.,   0.,   0.,   0., -20.,   0.,   0.,   0.,   0.,  10.]])"
            ]
          },
          "metadata": {},
          "execution_count": 4
        }
      ],
      "source": [
        "env.render()"
      ]
    },
    {
      "cell_type": "code",
      "execution_count": null,
      "metadata": {
        "colab": {
          "base_uri": "https://localhost:8080/"
        },
        "id": "AnKqNr7bL1gm",
        "outputId": "8a605403-3a2e-42dc-eb15-36848af91bec"
      },
      "outputs": [
        {
          "output_type": "execute_result",
          "data": {
            "text/plain": [
              "(1, 2)"
            ]
          },
          "metadata": {},
          "execution_count": 5
        }
      ],
      "source": [
        "env.current_location"
      ]
    },
    {
      "cell_type": "code",
      "execution_count": null,
      "metadata": {
        "colab": {
          "base_uri": "https://localhost:8080/"
        },
        "id": "KqZJg4I3L1gn",
        "outputId": "e724dfc2-b403-44e3-8117-57d97e2aa5a8"
      },
      "outputs": [
        {
          "output_type": "execute_result",
          "data": {
            "text/plain": [
              "['up', 'down', 'left', 'right']"
            ]
          },
          "metadata": {},
          "execution_count": 6
        }
      ],
      "source": [
        "env.available_actions()"
      ]
    },
    {
      "cell_type": "markdown",
      "metadata": {
        "id": "3ig2J3GhEh88"
      },
      "source": [
        "### Define Random Agent\n",
        "\n",
        "Define an agent that walk randomly."
      ]
    },
    {
      "cell_type": "markdown",
      "metadata": {
        "id": "yucS1fd7RrMl"
      },
      "source": [
        "Hint : use \n",
        "` np.random.choice` to random available action"
      ]
    },
    {
      "cell_type": "code",
      "execution_count": null,
      "metadata": {
        "id": "4QyYnWTzEh88"
      },
      "outputs": [],
      "source": [
        "# Define Random Agent Object\n",
        "class DumbAgent():\n",
        "    def action(self, available_actions):\n",
        "        #\n",
        "        # Code Here\n",
        "        return np.random.choice(available_actions)"
      ]
    },
    {
      "cell_type": "code",
      "execution_count": null,
      "metadata": {
        "id": "VZDzMBgwEh89",
        "colab": {
          "base_uri": "https://localhost:8080/"
        },
        "outputId": "b6fb15be-48fb-4b96-8d11-d04aaeb4cea2"
      },
      "outputs": [
        {
          "output_type": "execute_result",
          "data": {
            "text/plain": [
              "3"
            ]
          },
          "metadata": {},
          "execution_count": 8
        }
      ],
      "source": [
        "# Test your code\n",
        "agent = DumbAgent()\n",
        "agent.action([1,2,3,4])"
      ]
    },
    {
      "cell_type": "markdown",
      "metadata": {
        "id": "utcDiCzLEh8-"
      },
      "source": [
        "###  Define a Q-Agent\n",
        "\n",
        "Define an agent that used q-learning using the following pseudocode: </br>\n",
        "<img src='https://github.com/fongfongfong/CPE_CodeInAI_Course_2018/blob/master/9_RL/img/q_learning.png?raw=1'>\n",
        "\n",
        "- S is a state of the environment\n",
        "- S' is a next state\n",
        "- A is a action choosen by the agent\n",
        "- A' is a next action\n",
        "- epsilon, alpha, gamma are the parameter for the agent"
      ]
    },
    {
      "cell_type": "code",
      "execution_count": null,
      "metadata": {
        "id": "FB9B7EO1Eh8_"
      },
      "outputs": [],
      "source": [
        "class Q_Agent():\n",
        "    \n",
        "    def __init__(self, environment, alpha, gamma, epsilon):\n",
        "        self.environment = environment\n",
        "        self.q_table = dict()\n",
        "        for x in range(environment.height):\n",
        "            for y in range(environment.width):\n",
        "                self.q_table[(x,y)] = {'up':0,'down':0,'left':0,'right':0}\n",
        "                \n",
        "        self.alpha = alpha\n",
        "        self.gamma = gamma\n",
        "        self.epsilon = epsilon\n",
        "        \n",
        "        \n",
        "    def action(self, available_actions):\n",
        "        if np.random.uniform(0,1) < self.epsilon:\n",
        "            # Exploration\n",
        "            return np.random.choice(available_actions)\n",
        "        else:\n",
        "            # Exploitation\n",
        "            S = self.q_table[self.environment.current_location]\n",
        "            max_value = max(S.values())\n",
        "            # random if you have multiple max value\n",
        "            return np.random.choice([key for key, value in S.items() if value == max_value])\n",
        "            \n",
        "            \n",
        "    def update(self, current_state, reward, next_state, actions):\n",
        "        S_prime = self.q_table[next_state]\n",
        "        max_value_S_prime = max(S_prime.values())\n",
        "        current_Q_value = self.q_table[current_state][actions]\n",
        "        \n",
        "        # From the equation in pseudocode\n",
        "        self.q_table[current_state][actions] = current_Q_value + self.alpha * (reward + self.gamma*max_value_S_prime - current_Q_value)"
      ]
    },
    {
      "cell_type": "markdown",
      "metadata": {
        "id": "k-y7I9hgEh9A"
      },
      "source": [
        "###  Deploy Your Agent\n",
        "\n",
        "Create a function to run your agent in an environment. Your agent will run n trails, each trails has a maximum of m max_steps_per_episode.</br>\n",
        "\n",
        "The function must record the total reward in each trials and return when the function end.\n",
        "```python\n",
        "total_reward = run(env, agent, trials, max_steps_per_episode, learn=False)\n",
        "```\n",
        "\n",
        "For the Q-agent, you have to update Q-value for your agent using following code: </br>\n",
        "```python\n",
        "if learn: \n",
        "    agent.update( ... )\n",
        "```"
      ]
    },
    {
      "cell_type": "code",
      "source": [
        "def run(env, agent, trials, max_steps_per_episode, learn=False):\n",
        "    #\n",
        "    # Code here\n",
        "    # Sent the action to environment and get the next state \n",
        "    # and reward\n",
        "    # Hint: \n",
        "    #     Define total_reward, sum_reward, step, \n",
        "    #            current_state, action, reward & next_state \n",
        "    \n",
        "    # Initialize total reward in each episode\n",
        "    total_reward = []\n",
        "\n",
        "    # For each episode\n",
        "    for ep in range(trials):\n",
        "      sum_reward = 0\n",
        "      env.reset() # Reset the environment\n",
        "\n",
        "      # For each step\n",
        "      for step in range(max_steps_per_episode):\n",
        "\n",
        "        current_state = env.current_location            # Get the current state\n",
        "        action = agent.action(env.available_actions())  # Choose action\n",
        "        reward = env.move_agent(action)                 # Get reward from current state/action and update state\n",
        "        next_state = env.current_location               # Next state\n",
        "        sum_reward += reward                            # Sum reward in each step\n",
        "\n",
        "        # For Q_Agent that learn\n",
        "        if learn:\n",
        "          agent.update(current_state, reward, next_state, action) # Update Q-Table\n",
        "      \n",
        "        # Check state that in terminal states? (exit and bomb)\n",
        "        if env.end_state():\n",
        "          break\n",
        "\n",
        "      # Include sum reward in each ep to total reward\n",
        "      total_reward.append(sum_reward)\n",
        "\n",
        "    return total_reward"
      ],
      "metadata": {
        "id": "cXMx5wHig9O_"
      },
      "execution_count": null,
      "outputs": []
    },
    {
      "cell_type": "code",
      "execution_count": null,
      "metadata": {
        "id": "GZ3K-LmHEh9B"
      },
      "outputs": [],
      "source": [
        "# Plot reward\n",
        "def plot_total_reward(total_reward):\n",
        "    plt.plot(total_reward)\n",
        "    plt.title('The Sum of Reward During Each Episode')\n",
        "    plt.xlabel('Episode')\n",
        "    plt.ylabel('Cumulative Reward')"
      ]
    },
    {
      "cell_type": "markdown",
      "metadata": {
        "id": "1tY7JAZkEh9B"
      },
      "source": [
        "### Run a Dump Agent"
      ]
    },
    {
      "cell_type": "code",
      "execution_count": null,
      "metadata": {
        "id": "ekq64BmFEh9C"
      },
      "outputs": [],
      "source": [
        "## Run\n",
        "env.reset()\n",
        "agent_d =  DumbAgent()\n",
        "total_reward = run(env, agent_d, trials=100, max_steps_per_episode=200, learn=False)"
      ]
    },
    {
      "cell_type": "code",
      "execution_count": null,
      "metadata": {
        "id": "6J3i2GoWEh9C",
        "colab": {
          "base_uri": "https://localhost:8080/",
          "height": 295
        },
        "outputId": "97e20dd9-e798-4af6-f582-b56292d4ed6f"
      },
      "outputs": [
        {
          "output_type": "display_data",
          "data": {
            "text/plain": [
              "<Figure size 432x288 with 1 Axes>"
            ],
            "image/png": "[encoded data removed]"
          },
          "metadata": {
            "needs_background": "light"
          }
        }
      ],
      "source": [
        "## Plot reward\n",
        "plot_total_reward(total_reward)"
      ]
    },
    {
      "cell_type": "markdown",
      "metadata": {
        "id": "_DBSG6YjEh9C"
      },
      "source": [
        "### Run an Q-Agent"
      ]
    },
    {
      "cell_type": "code",
      "execution_count": null,
      "metadata": {
        "id": "FFB46_2WEh9D"
      },
      "outputs": [],
      "source": [
        "## Run\n",
        "env.reset()\n",
        "agent_q = Q_Agent(env, alpha=0.01, gamma=1, epsilon=0.05)\n",
        "total_reward = run(env, agent_q, trials=100, max_steps_per_episode=200, learn=True)"
      ]
    },
    {
      "cell_type": "code",
      "execution_count": null,
      "metadata": {
        "id": "PoF05iXeEh9D",
        "colab": {
          "base_uri": "https://localhost:8080/",
          "height": 295
        },
        "outputId": "42b05638-2fe9-4834-deb2-018e518c5dd2"
      },
      "outputs": [
        {
          "output_type": "display_data",
          "data": {
            "text/plain": [
              "<Figure size 432x288 with 1 Axes>"
            ],
            "image/png": "[encoded data removed]"
          },
          "metadata": {
            "needs_background": "light"
          }
        }
      ],
      "source": [
        "## Plot reward\n",
        "plot_total_reward(total_reward)"
      ]
    },
    {
      "cell_type": "markdown",
      "metadata": {
        "id": "dv4LI3uNEh9E"
      },
      "source": [
        "### Show Q-Table\n",
        "\n",
        "Show the agent's Q-table using to make a decision."
      ]
    },
    {
      "cell_type": "code",
      "execution_count": null,
      "metadata": {
        "id": "o3-KTIitEh9E"
      },
      "outputs": [],
      "source": [
        "def Viz_q_table(d, indent=0):\n",
        "    for key, value in d.items():\n",
        "        print('\\t' * indent + str(key))\n",
        "        if isinstance(value, dict):\n",
        "            Viz_q_table(value, indent+1)\n",
        "        else:\n",
        "            print('\\t' * (indent+1) + str(value))"
      ]
    },
    {
      "cell_type": "code",
      "execution_count": null,
      "metadata": {
        "id": "FvtvG4_3Eh9E",
        "colab": {
          "base_uri": "https://localhost:8080/"
        },
        "outputId": "a7b3357b-caf7-4a9c-eb20-aaf3d7acaee1"
      },
      "outputs": [
        {
          "output_type": "stream",
          "name": "stdout",
          "text": [
            "(0, 0)\n",
            "\tup\n",
            "\t\t-0.9599369048318745\n",
            "\tdown\n",
            "\t\t-0.9677508506131508\n",
            "\tleft\n",
            "\t\t-0.9597079372647184\n",
            "\tright\n",
            "\t\t-0.9658833949675467\n",
            "(0, 1)\n",
            "\tup\n",
            "\t\t-0.9698987097857922\n",
            "\tdown\n",
            "\t\t-0.9660015004373975\n",
            "\tleft\n",
            "\t\t-0.9741958492850418\n",
            "\tright\n",
            "\t\t-0.9710355134858865\n",
            "(0, 2)\n",
            "\tup\n",
            "\t\t-0.9499000574600798\n",
            "\tdown\n",
            "\t\t-0.9589574962561692\n",
            "\tleft\n",
            "\t\t-0.954595780964898\n",
            "\tright\n",
            "\t\t-0.9565197917166388\n",
            "(0, 3)\n",
            "\tup\n",
            "\t\t-0.9299839406878054\n",
            "\tdown\n",
            "\t\t-0.9248598115559797\n",
            "\tleft\n",
            "\t\t-0.9330621213483238\n",
            "\tright\n",
            "\t\t-1.7340574174647843\n",
            "(0, 4)\n",
            "\tup\n",
            "\t\t-0.2\n",
            "\tdown\n",
            "\t\t-0.2\n",
            "\tleft\n",
            "\t\t-0.126220797526772\n",
            "\tright\n",
            "\t\t-0.2\n",
            "(0, 5)\n",
            "\tup\n",
            "\t\t-0.2\n",
            "\tdown\n",
            "\t\t-0.2\n",
            "\tleft\n",
            "\t\t-0.2\n",
            "\tright\n",
            "\t\t-0.2\n",
            "(0, 6)\n",
            "\tup\n",
            "\t\t0\n",
            "\tdown\n",
            "\t\t-0.2\n",
            "\tleft\n",
            "\t\t-0.2\n",
            "\tright\n",
            "\t\t-0.2\n",
            "(0, 7)\n",
            "\tup\n",
            "\t\t-0.2\n",
            "\tdown\n",
            "\t\t-0.2\n",
            "\tleft\n",
            "\t\t-0.2\n",
            "\tright\n",
            "\t\t0\n",
            "(0, 8)\n",
            "\tup\n",
            "\t\t-0.2\n",
            "\tdown\n",
            "\t\t-0.2\n",
            "\tleft\n",
            "\t\t-0.2\n",
            "\tright\n",
            "\t\t-0.020699000000000002\n",
            "(0, 9)\n",
            "\tup\n",
            "\t\t-0.2700000000000001\n",
            "\tdown\n",
            "\t\t-0.27241269707723087\n",
            "\tleft\n",
            "\t\t-0.59412\n",
            "\tright\n",
            "\t\t-0.26980100000000007\n",
            "(1, 0)\n",
            "\tup\n",
            "\t\t-0.9587141393553571\n",
            "\tdown\n",
            "\t\t-0.9607268402402322\n",
            "\tleft\n",
            "\t\t-0.9597680801105901\n",
            "\tright\n",
            "\t\t-0.9612191103819305\n",
            "(1, 1)\n",
            "\tup\n",
            "\t\t-1.0022016613939322\n",
            "\tdown\n",
            "\t\t-0.9961990710966209\n",
            "\tleft\n",
            "\t\t-0.9950177871424064\n",
            "\tright\n",
            "\t\t-0.9982334323006894\n",
            "(1, 2)\n",
            "\tup\n",
            "\t\t-0.968426470091032\n",
            "\tdown\n",
            "\t\t-0.9627376346529714\n",
            "\tleft\n",
            "\t\t-0.9726412820017213\n",
            "\tright\n",
            "\t\t-0.9693814446121763\n",
            "(1, 3)\n",
            "\tup\n",
            "\t\t-0.8940359256513455\n",
            "\tdown\n",
            "\t\t-0.9016380205101221\n",
            "\tleft\n",
            "\t\t-0.8941791531328339\n",
            "\tright\n",
            "\t\t-1.3605251347401683\n",
            "(1, 4)\n",
            "\tup\n",
            "\t\t-0.3986751032821455\n",
            "\tdown\n",
            "\t\t-0.0646927981480209\n",
            "\tleft\n",
            "\t\t-0.07099053949201112\n",
            "\tright\n",
            "\t\t-0.2\n",
            "(1, 5)\n",
            "\tup\n",
            "\t\t-0.2\n",
            "\tdown\n",
            "\t\t-0.049787793488819204\n",
            "\tleft\n",
            "\t\t-0.2\n",
            "\tright\n",
            "\t\t-0.2\n",
            "(1, 6)\n",
            "\tup\n",
            "\t\t-0.2\n",
            "\tdown\n",
            "\t\t-0.03465891394043938\n",
            "\tleft\n",
            "\t\t-0.2\n",
            "\tright\n",
            "\t\t-0.2\n",
            "(1, 7)\n",
            "\tup\n",
            "\t\t-0.2\n",
            "\tdown\n",
            "\t\t-0.021954102010813666\n",
            "\tleft\n",
            "\t\t-0.2\n",
            "\tright\n",
            "\t\t-0.2\n",
            "(1, 8)\n",
            "\tup\n",
            "\t\t-0.2\n",
            "\tdown\n",
            "\t\t-0.020795134724224635\n",
            "\tleft\n",
            "\t\t-0.2\n",
            "\tright\n",
            "\t\t-0.031102798817719414\n",
            "(1, 9)\n",
            "\tup\n",
            "\t\t-0.2872151300396381\n",
            "\tdown\n",
            "\t\t-0.29054874872080605\n",
            "\tleft\n",
            "\t\t-0.398199\n",
            "\tright\n",
            "\t\t-0.2900000000000001\n",
            "(2, 0)\n",
            "\tup\n",
            "\t\t-0.9266128935374562\n",
            "\tdown\n",
            "\t\t-0.9325427629378086\n",
            "\tleft\n",
            "\t\t-0.9297363288129022\n",
            "\tright\n",
            "\t\t-0.9249463315023448\n",
            "(2, 1)\n",
            "\tup\n",
            "\t\t-0.9506280126194114\n",
            "\tdown\n",
            "\t\t-0.9549000894035181\n",
            "\tleft\n",
            "\t\t-0.9510996050299672\n",
            "\tright\n",
            "\t\t-0.9539100386547913\n",
            "(2, 2)\n",
            "\tup\n",
            "\t\t-0.9141433320373066\n",
            "\tdown\n",
            "\t\t-0.9160643274832136\n",
            "\tleft\n",
            "\t\t-0.9149579012141579\n",
            "\tright\n",
            "\t\t-0.9093256331049144\n",
            "(2, 3)\n",
            "\tup\n",
            "\t\t-0.8079539159767698\n",
            "\tdown\n",
            "\t\t-0.8068940923752527\n",
            "\tleft\n",
            "\t\t-0.8178202802354289\n",
            "\tright\n",
            "\t\t-0.8073631959441551\n",
            "(2, 4)\n",
            "\tup\n",
            "\t\t-0.7887322606848712\n",
            "\tdown\n",
            "\t\t-0.6677029407547453\n",
            "\tleft\n",
            "\t\t-0.6703070712543455\n",
            "\tright\n",
            "\t\t-0.6715010845681862\n",
            "(2, 5)\n",
            "\tup\n",
            "\t\t-0.7887480065611141\n",
            "\tdown\n",
            "\t\t-0.552812946040608\n",
            "\tleft\n",
            "\t\t-0.5549197284270314\n",
            "\tright\n",
            "\t\t-0.5487799862074928\n",
            "(2, 6)\n",
            "\tup\n",
            "\t\t-0.5943299592918545\n",
            "\tdown\n",
            "\t\t-0.45575885037917724\n",
            "\tleft\n",
            "\t\t-0.45348887248959785\n",
            "\tright\n",
            "\t\t-0.4596309872959345\n",
            "(2, 7)\n",
            "\tup\n",
            "\t\t-0.3981\n",
            "\tdown\n",
            "\t\t-0.38706397511042334\n",
            "\tleft\n",
            "\t\t-0.38565800713541964\n",
            "\tright\n",
            "\t\t-0.3877207396360086\n",
            "(2, 8)\n",
            "\tup\n",
            "\t\t-0.594219\n",
            "\tdown\n",
            "\t\t-0.33709105553222907\n",
            "\tleft\n",
            "\t\t-0.330041730806713\n",
            "\tright\n",
            "\t\t-0.33470598974994303\n",
            "(2, 9)\n",
            "\tup\n",
            "\t\t-0.2992412875009671\n",
            "\tdown\n",
            "\t\t-0.2970628527966398\n",
            "\tleft\n",
            "\t\t-0.3044515536629623\n",
            "\tright\n",
            "\t\t-0.3000000000000001\n",
            "(3, 0)\n",
            "\tup\n",
            "\t\t-0.8709204237051443\n",
            "\tdown\n",
            "\t\t-0.8721563975805564\n",
            "\tleft\n",
            "\t\t-0.8700000000000006\n",
            "\tright\n",
            "\t\t-0.8704503570302516\n",
            "(3, 1)\n",
            "\tup\n",
            "\t\t-0.864323982972654\n",
            "\tdown\n",
            "\t\t-0.867847128627819\n",
            "\tleft\n",
            "\t\t-0.8695093539721699\n",
            "\tright\n",
            "\t\t-0.8615867351397335\n",
            "(3, 2)\n",
            "\tup\n",
            "\t\t-0.8236681723480541\n",
            "\tdown\n",
            "\t\t-0.8213210384356809\n",
            "\tleft\n",
            "\t\t-0.8256798348056125\n",
            "\tright\n",
            "\t\t-0.820906199424135\n",
            "(3, 3)\n",
            "\tup\n",
            "\t\t-0.7476266786669039\n",
            "\tdown\n",
            "\t\t-0.7445326575897324\n",
            "\tleft\n",
            "\t\t-0.742469271256981\n",
            "\tright\n",
            "\t\t-0.7413467310256098\n",
            "(3, 4)\n",
            "\tup\n",
            "\t\t-0.6311738342992917\n",
            "\tdown\n",
            "\t\t-0.6406502201332367\n",
            "\tleft\n",
            "\t\t-0.6368377474363328\n",
            "\tright\n",
            "\t\t-0.6374324748595108\n",
            "(3, 5)\n",
            "\tup\n",
            "\t\t-0.5265672784131323\n",
            "\tdown\n",
            "\t\t-0.5281691082080022\n",
            "\tleft\n",
            "\t\t-0.5312372125886838\n",
            "\tright\n",
            "\t\t-0.5312068023916521\n",
            "(3, 6)\n",
            "\tup\n",
            "\t\t-0.4339723889815389\n",
            "\tdown\n",
            "\t\t-0.44033088569302714\n",
            "\tleft\n",
            "\t\t-0.4411587696960346\n",
            "\tright\n",
            "\t\t-0.4323074997686482\n",
            "(3, 7)\n",
            "\tup\n",
            "\t\t-0.372872544643511\n",
            "\tdown\n",
            "\t\t-0.3733345289125354\n",
            "\tleft\n",
            "\t\t-0.36379230756821146\n",
            "\tright\n",
            "\t\t-0.3678584611779249\n",
            "(3, 8)\n",
            "\tup\n",
            "\t\t-0.31300959134022116\n",
            "\tdown\n",
            "\t\t-0.31555457232775336\n",
            "\tleft\n",
            "\t\t-0.3201936940022143\n",
            "\tright\n",
            "\t\t-0.31506132342085863\n",
            "(3, 9)\n",
            "\tup\n",
            "\t\t-0.29232208563302614\n",
            "\tdown\n",
            "\t\t-0.28575503046984535\n",
            "\tleft\n",
            "\t\t-0.2843352415169367\n",
            "\tright\n",
            "\t\t-0.2899178687131459\n",
            "(4, 0)\n",
            "\tup\n",
            "\t\t-0.8137447643390087\n",
            "\tdown\n",
            "\t\t-0.8202386223362562\n",
            "\tleft\n",
            "\t\t-0.8195378081252626\n",
            "\tright\n",
            "\t\t-0.8149599020171328\n",
            "(4, 1)\n",
            "\tup\n",
            "\t\t-0.8083667084255015\n",
            "\tdown\n",
            "\t\t-0.8105446636913891\n",
            "\tleft\n",
            "\t\t-0.802639412581132\n",
            "\tright\n",
            "\t\t-0.804377140496701\n",
            "(4, 2)\n",
            "\tup\n",
            "\t\t-0.7646189042686838\n",
            "\tdown\n",
            "\t\t-0.7662919228594046\n",
            "\tleft\n",
            "\t\t-0.7737149470667283\n",
            "\tright\n",
            "\t\t-0.7648153580925549\n",
            "(4, 3)\n",
            "\tup\n",
            "\t\t-0.7132463274194875\n",
            "\tdown\n",
            "\t\t-0.7115703439949949\n",
            "\tleft\n",
            "\t\t-0.7119040432375703\n",
            "\tright\n",
            "\t\t-0.7159542246664522\n",
            "(4, 4)\n",
            "\tup\n",
            "\t\t-0.6084872883259822\n",
            "\tdown\n",
            "\t\t-1.5471418237279493\n",
            "\tleft\n",
            "\t\t-0.6137813679556797\n",
            "\tright\n",
            "\t\t-0.614835470340621\n",
            "(4, 5)\n",
            "\tup\n",
            "\t\t-0.4902509255843156\n",
            "\tdown\n",
            "\t\t-0.48615495016552934\n",
            "\tleft\n",
            "\t\t-0.4912828023977096\n",
            "\tright\n",
            "\t\t-0.49403010043282036\n",
            "(4, 6)\n",
            "\tup\n",
            "\t\t-0.3980541250754849\n",
            "\tdown\n",
            "\t\t-0.4032749693633864\n",
            "\tleft\n",
            "\t\t-0.40904957436386363\n",
            "\tright\n",
            "\t\t-0.4057211662174555\n",
            "(4, 7)\n",
            "\tup\n",
            "\t\t-0.3355603072936566\n",
            "\tdown\n",
            "\t\t-0.34049863527650476\n",
            "\tleft\n",
            "\t\t-0.3415674895705164\n",
            "\tright\n",
            "\t\t-0.3401928600206792\n",
            "(4, 8)\n",
            "\tup\n",
            "\t\t-0.2833417341616817\n",
            "\tdown\n",
            "\t\t-0.2915870899924434\n",
            "\tleft\n",
            "\t\t-0.2874285095699451\n",
            "\tright\n",
            "\t\t-0.28639722490171304\n",
            "(4, 9)\n",
            "\tup\n",
            "\t\t-0.2628460930570234\n",
            "\tdown\n",
            "\t\t-0.25418559915350136\n",
            "\tleft\n",
            "\t\t-0.2539104917091303\n",
            "\tright\n",
            "\t\t-0.26000000000000006\n",
            "(5, 0)\n",
            "\tup\n",
            "\t\t-0.7766604569313852\n",
            "\tdown\n",
            "\t\t-0.7858538405364732\n",
            "\tleft\n",
            "\t\t-0.7798784843945052\n",
            "\tright\n",
            "\t\t-0.7848654027215353\n",
            "(5, 1)\n",
            "\tup\n",
            "\t\t-0.7680330553999594\n",
            "\tdown\n",
            "\t\t-0.7746091210575995\n",
            "\tleft\n",
            "\t\t-0.7732927363679205\n",
            "\tright\n",
            "\t\t-0.7712768388163962\n",
            "(5, 2)\n",
            "\tup\n",
            "\t\t-0.7430180196832719\n",
            "\tdown\n",
            "\t\t-0.7408610175541012\n",
            "\tleft\n",
            "\t\t-0.7482925705488912\n",
            "\tright\n",
            "\t\t-0.7404762200394965\n",
            "(5, 3)\n",
            "\tup\n",
            "\t\t-0.7268032566128917\n",
            "\tdown\n",
            "\t\t-0.7228461796651836\n",
            "\tleft\n",
            "\t\t-0.718406082887701\n",
            "\tright\n",
            "\t\t-0.7887977066848241\n",
            "(5, 4)\n",
            "\tup\n",
            "\t\t-0.05732752873586433\n",
            "\tdown\n",
            "\t\t-0.2\n",
            "\tleft\n",
            "\t\t-0.06313200649372701\n",
            "\tright\n",
            "\t\t-0.053752243397754834\n",
            "(5, 5)\n",
            "\tup\n",
            "\t\t-0.39757030572676144\n",
            "\tdown\n",
            "\t\t-0.490099501\n",
            "\tleft\n",
            "\t\t-0.5944339925034977\n",
            "\tright\n",
            "\t\t-0.4029974804625134\n",
            "(5, 6)\n",
            "\tup\n",
            "\t\t-0.3329261905786841\n",
            "\tdown\n",
            "\t\t-0.3290301571348055\n",
            "\tleft\n",
            "\t\t-0.33273036035629794\n",
            "\tright\n",
            "\t\t-0.33215166994231476\n",
            "(5, 7)\n",
            "\tup\n",
            "\t\t-0.28722880768889314\n",
            "\tdown\n",
            "\t\t-0.490099501\n",
            "\tleft\n",
            "\t\t-0.28742506085220854\n",
            "\tright\n",
            "\t\t-0.2917503904886883\n",
            "(5, 8)\n",
            "\tup\n",
            "\t\t-0.23590026323357613\n",
            "\tdown\n",
            "\t\t-0.23024545676819383\n",
            "\tleft\n",
            "\t\t-0.23605827959461187\n",
            "\tright\n",
            "\t\t-0.2371132480183759\n",
            "(5, 9)\n",
            "\tup\n",
            "\t\t-0.20465142000053652\n",
            "\tdown\n",
            "\t\t-0.21241484370648764\n",
            "\tleft\n",
            "\t\t-0.21208113804450843\n",
            "\tright\n",
            "\t\t-0.20991805590962595\n",
            "(6, 0)\n",
            "\tup\n",
            "\t\t-0.7525730359816848\n",
            "\tdown\n",
            "\t\t-0.7505330090000784\n",
            "\tleft\n",
            "\t\t-0.7497678702171263\n",
            "\tright\n",
            "\t\t-0.7556090770551146\n",
            "(6, 1)\n",
            "\tup\n",
            "\t\t-0.7436335740442858\n",
            "\tdown\n",
            "\t\t-0.7394854413899127\n",
            "\tleft\n",
            "\t\t-0.7435146868236598\n",
            "\tright\n",
            "\t\t-0.7438163165999602\n",
            "(6, 2)\n",
            "\tup\n",
            "\t\t-0.719637691628114\n",
            "\tdown\n",
            "\t\t-0.721819874550803\n",
            "\tleft\n",
            "\t\t-0.7251963019152134\n",
            "\tright\n",
            "\t\t-0.725286017785768\n",
            "(6, 3)\n",
            "\tup\n",
            "\t\t-0.714615824916406\n",
            "\tdown\n",
            "\t\t-0.7133937566709081\n",
            "\tleft\n",
            "\t\t-0.7060264951310864\n",
            "\tright\n",
            "\t\t-0.9805412614771833\n",
            "(6, 4)\n",
            "\tup\n",
            "\t\t-0.2\n",
            "\tdown\n",
            "\t\t-0.398199\n",
            "\tleft\n",
            "\t\t-0.040628027426381955\n",
            "\tright\n",
            "\t\t-0.1\n",
            "(6, 5)\n",
            "\tup\n",
            "\t\t0\n",
            "\tdown\n",
            "\t\t0\n",
            "\tleft\n",
            "\t\t0\n",
            "\tright\n",
            "\t\t0\n",
            "(6, 6)\n",
            "\tup\n",
            "\t\t-0.2227044615298431\n",
            "\tdown\n",
            "\t\t-0.2123124166109655\n",
            "\tleft\n",
            "\t\t-0.29701\n",
            "\tright\n",
            "\t\t-0.29701\n",
            "(6, 7)\n",
            "\tup\n",
            "\t\t0\n",
            "\tdown\n",
            "\t\t0\n",
            "\tleft\n",
            "\t\t0\n",
            "\tright\n",
            "\t\t0\n",
            "(6, 8)\n",
            "\tup\n",
            "\t\t-0.14556758094630773\n",
            "\tdown\n",
            "\t\t-0.1467808727225716\n",
            "\tleft\n",
            "\t\t-0.199\n",
            "\tright\n",
            "\t\t-0.14923181744148373\n",
            "(6, 9)\n",
            "\tup\n",
            "\t\t-0.13421307243851946\n",
            "\tdown\n",
            "\t\t-0.14139167915854003\n",
            "\tleft\n",
            "\t\t-0.14051329293168616\n",
            "\tright\n",
            "\t\t-0.13999999999999999\n",
            "(7, 0)\n",
            "\tup\n",
            "\t\t-0.7279387843686281\n",
            "\tdown\n",
            "\t\t-0.7232859462046733\n",
            "\tleft\n",
            "\t\t-0.7196302254145004\n",
            "\tright\n",
            "\t\t-0.7278143560594053\n",
            "(7, 1)\n",
            "\tup\n",
            "\t\t-0.7188050008785254\n",
            "\tdown\n",
            "\t\t-0.7130988934312232\n",
            "\tleft\n",
            "\t\t-0.7123413404768502\n",
            "\tright\n",
            "\t\t-0.7162892503092061\n",
            "(7, 2)\n",
            "\tup\n",
            "\t\t-0.7057053809168334\n",
            "\tdown\n",
            "\t\t-0.704093119848401\n",
            "\tleft\n",
            "\t\t-0.7043851794526306\n",
            "\tright\n",
            "\t\t-0.696395135656198\n",
            "(7, 3)\n",
            "\tup\n",
            "\t\t-0.694597579229548\n",
            "\tdown\n",
            "\t\t-0.6868753256952204\n",
            "\tleft\n",
            "\t\t-0.6954014048663928\n",
            "\tright\n",
            "\t\t-0.7883877909901653\n",
            "(7, 4)\n",
            "\tup\n",
            "\t\t-0.2\n",
            "\tdown\n",
            "\t\t-0.2\n",
            "\tleft\n",
            "\t\t-0.034613674761104725\n",
            "\tright\n",
            "\t\t-0.029901\n",
            "(7, 5)\n",
            "\tup\n",
            "\t\t-0.199\n",
            "\tdown\n",
            "\t\t-0.12923010323772788\n",
            "\tleft\n",
            "\t\t-0.20010000000000003\n",
            "\tright\n",
            "\t\t-0.13021336841800882\n",
            "(7, 6)\n",
            "\tup\n",
            "\t\t-0.1450923589303519\n",
            "\tdown\n",
            "\t\t-0.1381584691962208\n",
            "\tleft\n",
            "\t\t-0.13967647103405065\n",
            "\tright\n",
            "\t\t-0.13770834682560698\n",
            "(7, 7)\n",
            "\tup\n",
            "\t\t-0.1\n",
            "\tdown\n",
            "\t\t-0.09921431429056168\n",
            "\tleft\n",
            "\t\t-0.10190748790768947\n",
            "\tright\n",
            "\t\t-0.09982535614441518\n",
            "(7, 8)\n",
            "\tup\n",
            "\t\t-0.09185045730984501\n",
            "\tdown\n",
            "\t\t-0.3981\n",
            "\tleft\n",
            "\t\t-0.0901065620697125\n",
            "\tright\n",
            "\t\t-0.0969446793102468\n",
            "(7, 9)\n",
            "\tup\n",
            "\t\t-0.05129110900499\n",
            "\tdown\n",
            "\t\t0.06160103663429081\n",
            "\tleft\n",
            "\t\t-0.0402010285139401\n",
            "\tright\n",
            "\t\t-0.04\n",
            "(8, 0)\n",
            "\tup\n",
            "\t\t-0.7149264091108798\n",
            "\tdown\n",
            "\t\t-0.7053601349214978\n",
            "\tleft\n",
            "\t\t-0.7099630758008554\n",
            "\tright\n",
            "\t\t-0.7077804647728406\n",
            "(8, 1)\n",
            "\tup\n",
            "\t\t-0.694643754465338\n",
            "\tdown\n",
            "\t\t-0.6982290784000476\n",
            "\tleft\n",
            "\t\t-0.7021936132584173\n",
            "\tright\n",
            "\t\t-0.6959712149372907\n",
            "(8, 2)\n",
            "\tup\n",
            "\t\t-0.6855296055888546\n",
            "\tdown\n",
            "\t\t-0.687664945392508\n",
            "\tleft\n",
            "\t\t-0.6830933846927926\n",
            "\tright\n",
            "\t\t-0.6878852700145484\n",
            "(8, 3)\n",
            "\tup\n",
            "\t\t-0.6818657261189136\n",
            "\tdown\n",
            "\t\t-0.6792754086163373\n",
            "\tleft\n",
            "\t\t-0.673566517925705\n",
            "\tright\n",
            "\t\t-0.7883798\n",
            "(8, 4)\n",
            "\tup\n",
            "\t\t-0.2\n",
            "\tdown\n",
            "\t\t-0.2\n",
            "\tleft\n",
            "\t\t-0.0203\n",
            "\tright\n",
            "\t\t-0.030894134719424655\n",
            "(8, 5)\n",
            "\tup\n",
            "\t\t-0.1208462653618445\n",
            "\tdown\n",
            "\t\t-0.11931923890392207\n",
            "\tleft\n",
            "\t\t-0.20010000000000003\n",
            "\tright\n",
            "\t\t-0.1290311170759419\n",
            "(8, 6)\n",
            "\tup\n",
            "\t\t-0.11142072356338849\n",
            "\tdown\n",
            "\t\t-0.10903740325033684\n",
            "\tleft\n",
            "\t\t-0.11097493102973646\n",
            "\tright\n",
            "\t\t-0.10872547988594855\n",
            "(8, 7)\n",
            "\tup\n",
            "\t\t-0.08031640100059145\n",
            "\tdown\n",
            "\t\t-0.07887536044794675\n",
            "\tleft\n",
            "\t\t-0.08086785858304076\n",
            "\tright\n",
            "\t\t-0.2\n",
            "(8, 8)\n",
            "\tup\n",
            "\t\t-0.01\n",
            "\tdown\n",
            "\t\t-0.010098009980000001\n",
            "\tleft\n",
            "\t\t-0.0101\n",
            "\tright\n",
            "\t\t-0.01\n",
            "(8, 9)\n",
            "\tup\n",
            "\t\t-0.01\n",
            "\tdown\n",
            "\t\t2.9708445781024877\n",
            "\tleft\n",
            "\t\t-0.2\n",
            "\tright\n",
            "\t\t-0.0007764150017608995\n",
            "(9, 0)\n",
            "\tup\n",
            "\t\t-0.7022752982845344\n",
            "\tdown\n",
            "\t\t-0.6998655894322272\n",
            "\tleft\n",
            "\t\t-0.7000000000000004\n",
            "\tright\n",
            "\t\t-0.6969445574581455\n",
            "(9, 1)\n",
            "\tup\n",
            "\t\t-0.6939606875687788\n",
            "\tdown\n",
            "\t\t-0.6898185932165255\n",
            "\tleft\n",
            "\t\t-0.6923563868486851\n",
            "\tright\n",
            "\t\t-0.6862432263560154\n",
            "(9, 2)\n",
            "\tup\n",
            "\t\t-0.6819070873883384\n",
            "\tdown\n",
            "\t\t-0.6799062431984257\n",
            "\tleft\n",
            "\t\t-0.68032053852434\n",
            "\tright\n",
            "\t\t-0.6764573009568383\n",
            "(9, 3)\n",
            "\tup\n",
            "\t\t-0.6717068611201857\n",
            "\tdown\n",
            "\t\t-0.6697271996073426\n",
            "\tleft\n",
            "\t\t-0.6722292746342045\n",
            "\tright\n",
            "\t\t-0.7884798100000001\n",
            "(9, 4)\n",
            "\tup\n",
            "\t\t-0.2\n",
            "\tdown\n",
            "\t\t-0.2\n",
            "\tleft\n",
            "\t\t-0.02389814902086309\n",
            "\tright\n",
            "\t\t-0.030997\n",
            "(9, 5)\n",
            "\tup\n",
            "\t\t-0.11075225307377061\n",
            "\tdown\n",
            "\t\t-0.10999999999999999\n",
            "\tleft\n",
            "\t\t-0.2\n",
            "\tright\n",
            "\t\t-0.10910572852002279\n",
            "(9, 6)\n",
            "\tup\n",
            "\t\t-0.09050623516023697\n",
            "\tdown\n",
            "\t\t-0.09\n",
            "\tleft\n",
            "\t\t-0.08097143147798186\n",
            "\tright\n",
            "\t\t-0.08851140599424862\n",
            "(9, 7)\n",
            "\tup\n",
            "\t\t-0.040197079302990005\n",
            "\tdown\n",
            "\t\t-0.04\n",
            "\tleft\n",
            "\t\t-0.040299\n",
            "\tright\n",
            "\t\t-0.01952136707884632\n",
            "(9, 8)\n",
            "\tup\n",
            "\t\t-0.2\n",
            "\tdown\n",
            "\t\t-0.01\n",
            "\tleft\n",
            "\t\t-0.01\n",
            "\tright\n",
            "\t\t1.91235849982391\n",
            "(9, 9)\n",
            "\tup\n",
            "\t\t0\n",
            "\tdown\n",
            "\t\t0\n",
            "\tleft\n",
            "\t\t0\n",
            "\tright\n",
            "\t\t0\n"
          ]
        }
      ],
      "source": [
        "Viz_q_table(agent_q.q_table)"
      ]
    },
    {
      "cell_type": "markdown",
      "source": [
        "###Experiment change paremeter"
      ],
      "metadata": {
        "id": "95Xu4pBPmMVB"
      }
    },
    {
      "cell_type": "code",
      "source": [
        "# INCREASE Trials to see different\n",
        "env.reset()\n",
        "agent_q1 = Q_Agent(env, alpha=0.01, gamma=1, epsilon=0.05)\n",
        "total_reward = run(env, agent_q1, trials=200, max_steps_per_episode=200, learn=True)\n",
        "\n",
        "## Plot reward\n",
        "plot_total_reward(total_reward)"
      ],
      "metadata": {
        "colab": {
          "base_uri": "https://localhost:8080/",
          "height": 295
        },
        "id": "BlRDfROFqRCX",
        "outputId": "96b36e7a-15cf-4098-d6ef-2330770cebbc"
      },
      "execution_count": null,
      "outputs": [
        {
          "output_type": "display_data",
          "data": {
            "text/plain": [
              "<Figure size 432x288 with 1 Axes>"
            ],
            "image/png": "[encoded data removed]"
          },
          "metadata": {
            "needs_background": "light"
          }
        }
      ]
    },
    {
      "cell_type": "code",
      "source": [
        "# REDUCE GAMMA (reduce discount factor)\n",
        "env.reset()\n",
        "agent_q2 = Q_Agent(env, alpha=0.01, gamma=0.88, epsilon=0.05)\n",
        "total_reward = run(env, agent_q2, trials=200, max_steps_per_episode=200, learn=True)\n",
        "\n",
        "## Plot reward\n",
        "plot_total_reward(total_reward)"
      ],
      "metadata": {
        "colab": {
          "base_uri": "https://localhost:8080/",
          "height": 295
        },
        "id": "Gv2CKyBTmR6r",
        "outputId": "81e5f843-eb54-4e3b-b47b-3bcb9882de3a"
      },
      "execution_count": null,
      "outputs": [
        {
          "output_type": "display_data",
          "data": {
            "text/plain": [
              "<Figure size 432x288 with 1 Axes>"
            ],
            "image/png": "[encoded data removed]"
          },
          "metadata": {
            "needs_background": "light"
          }
        }
      ]
    },
    {
      "cell_type": "code",
      "source": [
        "# INCREASE APLHA (increase learning rate)\n",
        "env.reset()\n",
        "agent_q3 = Q_Agent(env, alpha=0.1, gamma=0.88, epsilon=0.05)\n",
        "total_reward = run(env, agent_q3, trials=200, max_steps_per_episode=200, learn=True)\n",
        "\n",
        "## Plot reward\n",
        "plot_total_reward(total_reward)"
      ],
      "metadata": {
        "colab": {
          "base_uri": "https://localhost:8080/",
          "height": 295
        },
        "id": "LyYOTjlhnnQ3",
        "outputId": "830f46d5-9c0c-4476-bcd6-224ab952f428"
      },
      "execution_count": null,
      "outputs": [
        {
          "output_type": "display_data",
          "data": {
            "text/plain": [
              "<Figure size 432x288 with 1 Axes>"
            ],
            "image/png": "[encoded data removed]"
          },
          "metadata": {
            "needs_background": "light"
          }
        }
      ]
    },
    {
      "cell_type": "code",
      "source": [
        "# REDUCE EPSILON (reduce exploration)\n",
        "env.reset()\n",
        "agent_q4 = Q_Agent(env, alpha=0.1, gamma=0.88, epsilon=0.01)\n",
        "total_reward = run(env, agent_q4, trials=200, max_steps_per_episode=200, learn=True)\n",
        "\n",
        "## Plot reward\n",
        "plot_total_reward(total_reward)"
      ],
      "metadata": {
        "colab": {
          "base_uri": "https://localhost:8080/",
          "height": 295
        },
        "id": "W6KNG1rVoRWG",
        "outputId": "d8fabf1b-fde7-45bf-b6a6-167d7d22a163"
      },
      "execution_count": null,
      "outputs": [
        {
          "output_type": "display_data",
          "data": {
            "text/plain": [
              "<Figure size 432x288 with 1 Axes>"
            ],
            "image/png": "[encoded data removed]"
          },
          "metadata": {
            "needs_background": "light"
          }
        }
      ]
    },
    {
      "cell_type": "markdown",
      "metadata": {
        "id": "RbP1HeAfEh9D"
      },
      "source": [
        "### Results and Discussion\n",
        "\n",
        "Compare the result from a dump agent, as a based line, and the q-agent with different parameters."
      ]
    },
    {
      "cell_type": "markdown",
      "source": [
        "For dump agent that has random action. There is reasonable that the agent doesn't learn and improve. \n",
        "\n",
        "For Q-agent that used Q-learning, The agent learn and improve in each episode. \n",
        "\n",
        "For changing parameter of Q-learning, I use 200 trials and create agent_q1 to compare with others. In each parameter, the results and discussion have following this\n",
        "\n",
        "1. Discount Factor (gamma) :  When reduce discount factor (less than 1), it's mean that agent will less consider expected future reward at new state, and achieve more long term goal. However, there is not significant different graph between agent_q1 and agent_q2\n",
        "2. Learning Rate (aplha) : When increase learning rate, agent will learn more, considering new state more. Graph of agent_q3 shows the reasonable result.\n",
        "3. Epsilon : When reduce epsilon, it's mean that agent will less explore and exploit more. It can refer that agent will learn more, and the graph of agent_q4 support this reason.\n",
        "\n",
        "And for the rest parameters, that are no.of trials and no.of max_steps_per_episode, if they are increased, agent will learn more, but will not get the different characteristics of learning.\n"
      ],
      "metadata": {
        "id": "PJSp967SrPZk"
      }
    }
  ],
  "metadata": {
    "colab": {
      "provenance": [],
      "include_colab_link": true
    },
    "kernelspec": {
      "display_name": "Python 3",
      "language": "python",
      "name": "python3"
    },
    "language_info": {
      "codemirror_mode": {
        "name": "ipython",
        "version": 3
      },
      "file_extension": ".py",
      "mimetype": "text/x-python",
      "name": "python",
      "nbconvert_exporter": "python",
      "pygments_lexer": "ipython3",
      "version": "3.8.5"
    }
  },
  "nbformat": 4,
  "nbformat_minor": 0
}