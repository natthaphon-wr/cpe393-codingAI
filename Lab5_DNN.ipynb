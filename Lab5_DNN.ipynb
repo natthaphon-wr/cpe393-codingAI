{
  "cells": [
    {
      "cell_type": "markdown",
      "metadata": {
        "id": "view-in-github",
        "colab_type": "text"
      },
      "source": [
        "<a href=\"https://colab.research.google.com/github/natthaphon-wr/cpe393-codingAI/blob/main/Lab5_DNN.ipynb\" target=\"_parent\"><img src=\"https://colab.research.google.com/assets/colab-badge.svg\" alt=\"Open In Colab\"/></a>"
      ]
    },
    {
      "cell_type": "markdown",
      "metadata": {
        "id": "U1wyiGyBbFQM"
      },
      "source": [
        "# Lab5 - Training Deep Neural Network\n",
        "- Natthaphon Rotechanathamcharoen 62070501019\n",
        "\n",
        "Name your file to 62_1019.ipynb\n",
        "\n",
        "## Lab Instruction \n",
        "\n",
        "In this lab, you will learn how to train a deep fully-connected neural network with Keras and Tensorflow. MNIST data, a Keras built-in dataset, will be used.\n",
        "\n",
        "See http://yann.lecun.com/exdb/mnist\n",
        "\n",
        "**Note:**\n",
        "Before initiating on any machine learning/deep learning project, consider the following:\n",
        "1. What is your problem and what data do you have?\n",
        "- What kind of issue do you want to solve? \n",
        "- What data do you have? \n",
        "- What are you trying to predict? \n",
        "- Is there enough information in your data for your model to predict the expected output?\n",
        "\n",
        "2. How do you measure success?\n",
        "- What do you mean by \"good model performance\"? How do you know if your model is ready for deployment?\n",
        "- Accuracy? What about precision and recall? AUC? ROC?\n",
        "\n",
        "3. What is your method of evaluation?\n",
        "- Holding method? CV? Iterate CV?\n",
        "\n",
        "4. How should your data be preprocessed before being fed into a model?\n",
        "\n",
        "5. What is your baseline? What is a model structure? How does your last layer look? What is the loss function? What is the optimization function? \n",
        "\n",
        "6. Develop an overfit model to determine the size of the model required by \n",
        "<br> 6.1 Add more layers\n",
        "<br> 6.2 Increase the number of neurons\n",
        "<br> 6.3 Train more epochs\n",
        "\n",
        "7. Fine-tune your model to achieve a balance of underfit and overfit performance (optimization vs generalization)\n",
        "\n",
        "\n",
        "**Exploding Gradients :**\n",
        "\n",
        "Exploding gradients can produce an unstable network that, at best, cannot learn from the training data and, at worst, produces NaN weight values that cannot be updated.\n",
        "\n",
        "Ref : : https://machinelearningmastery.com/exploding-gradients-in-neural-networks/?fbclid=IwAR1DOg3pD0RSaxpHMZEEtIqxeCDMsvwkf-OxMb7HL5eK7_qLc4uLNEYcJus\n",
        "\n",
        "\n",
        "\n",
        "First, import all necessary libraries to this project."
      ]
    },
    {
      "cell_type": "code",
      "execution_count": null,
      "metadata": {
        "id": "2gEZyZNEbFQN"
      },
      "outputs": [],
      "source": [
        "import keras\n",
        "import numpy as np\n",
        "import tensorflow as tf\n",
        "import matplotlib.pyplot as plt\n",
        "from keras import models\n",
        "from keras import layers"
      ]
    },
    {
      "cell_type": "markdown",
      "metadata": {
        "id": "jMwbMSsUbFQR"
      },
      "source": [
        "### 1. Load MNIST data"
      ]
    },
    {
      "cell_type": "code",
      "execution_count": null,
      "metadata": {
        "id": "DGVpr05_bFQS"
      },
      "outputs": [],
      "source": [
        "from keras.datasets import mnist\n",
        "\n",
        "### Load Data ###\n",
        "(train_images, train_labels), (test_images, test_labels) = mnist.load_data()\n",
        "#################"
      ]
    },
    {
      "cell_type": "markdown",
      "metadata": {
        "id": "qMnCLh53bFQW"
      },
      "source": [
        "Learn more about the data. For example:\n",
        "- The distribution of target classes. \n",
        "- The characteristic of the input data. How does it look like? \n",
        "- etc."
      ]
    },
    {
      "cell_type": "code",
      "execution_count": null,
      "metadata": {
        "colab": {
          "base_uri": "https://localhost:8080/"
        },
        "id": "J_zHHa9qbFQY",
        "outputId": "cde6530f-114b-442c-a8bc-59c1e74eb5be"
      },
      "outputs": [
        {
          "output_type": "stream",
          "name": "stdout",
          "text": [
            "Feature type: <class 'numpy.ndarray'>\n",
            "Label type: <class 'numpy.ndarray'>\n",
            "Train_set Feature shape: (60000, 28, 28)\n",
            "Train_set Label type: (60000,)\n",
            "Test_set Feature shape: (10000, 28, 28)\n",
            "Test_set Label type: (10000,)\n"
          ]
        }
      ],
      "source": [
        "# Data type\n",
        "print('Feature type: %s'%type(train_images))\n",
        "print('Label type: %s'%type(train_labels))\n",
        "\n",
        "# Data shape\n",
        "print('Train_set Feature shape: %s'%str(train_images.shape))\n",
        "print('Train_set Label type: %s'%str(train_labels.shape))\n",
        "print('Test_set Feature shape: %s'%str(test_images.shape))\n",
        "print('Test_set Label type: %s'%str(test_labels.shape))"
      ]
    },
    {
      "cell_type": "code",
      "source": [
        "# Distribution of data\n",
        "\n",
        "# train data\n",
        "plt.figure()\n",
        "plt.hist(train_labels, bins=10)\n",
        "plt.title(\"Distribution of train labels\")\n",
        "plt.xlabel(\"Label\")\n",
        "plt.ylabel(\"Count\")\n",
        "plt.show()\n",
        "\n",
        "# test data\n",
        "plt.figure()\n",
        "plt.hist(test_labels, bins=10)\n",
        "plt.title(\"Distribution of test labels\")\n",
        "plt.xlabel(\"Label\")\n",
        "plt.ylabel(\"Count\")\n",
        "plt.show()"
      ],
      "metadata": {
        "colab": {
          "base_uri": "https://localhost:8080/",
          "height": 573
        },
        "id": "y4rP5ppnMKrv",
        "outputId": "88330617-8013-4326-f1d1-78a117af1154"
      },
      "execution_count": null,
      "outputs": [
        {
          "output_type": "display_data",
          "data": {
            "text/plain": [
              "<Figure size 432x288 with 1 Axes>"
            ],
            "image/png": "[encoded data removed]"
          },
          "metadata": {
            "needs_background": "light"
          }
        },
        {
          "output_type": "display_data",
          "data": {
            "text/plain": [
              "<Figure size 432x288 with 1 Axes>"
            ],
            "image/png": "[encoded data removed]"
          },
          "metadata": {
            "needs_background": "light"
          }
        }
      ]
    },
    {
      "cell_type": "code",
      "source": [
        "# Images Data Example\n",
        "plt.imshow(train_images[0], cmap=plt.cm.binary)\n",
        "train_labels[0]"
      ],
      "metadata": {
        "colab": {
          "base_uri": "https://localhost:8080/",
          "height": 282
        },
        "id": "aw-QZWwFMheC",
        "outputId": "59c8b7fa-da5f-44eb-9847-64f462ea9145"
      },
      "execution_count": null,
      "outputs": [
        {
          "output_type": "execute_result",
          "data": {
            "text/plain": [
              "5"
            ]
          },
          "metadata": {},
          "execution_count": 5
        },
        {
          "output_type": "display_data",
          "data": {
            "text/plain": [
              "<Figure size 432x288 with 1 Axes>"
            ],
            "image/png": "[encoded data removed]"
          },
          "metadata": {
            "needs_background": "light"
          }
        }
      ]
    },
    {
      "cell_type": "markdown",
      "metadata": {
        "id": "b1YkEJb1bFQb"
      },
      "source": [
        "### 2. Preprocess a data"
      ]
    },
    {
      "cell_type": "code",
      "execution_count": null,
      "metadata": {
        "colab": {
          "base_uri": "https://localhost:8080/"
        },
        "id": "fGAIf_5mbFQc",
        "outputId": "bf9b2748-ad4f-4958-aecf-d6ae83e352f3"
      },
      "outputs": [
        {
          "output_type": "stream",
          "name": "stdout",
          "text": [
            "Train_set Feature shape: (60000, 784)\n",
            "Test_set Feature shape: (10000, 784)\n"
          ]
        }
      ],
      "source": [
        "# Reshape data from 2D to 1D\n",
        "train_images = train_images.reshape(60000, 28*28)\n",
        "test_images = test_images.reshape(10000, 28*28)\n",
        "print('Train_set Feature shape: %s'%str(train_images.shape))\n",
        "print('Test_set Feature shape: %s'%str(test_images.shape))"
      ]
    },
    {
      "cell_type": "code",
      "source": [
        "# Normalize the value to be between 0 and 1\n",
        "train_images = train_images.astype('float32')/255\n",
        "test_images = test_images.astype('float32')/255\n",
        "print('Minimum value of the image: ', train_images.min())\n",
        "print('Maximum value of the image: ', train_images.max())"
      ],
      "metadata": {
        "colab": {
          "base_uri": "https://localhost:8080/"
        },
        "id": "Vx1w4HyVNK9V",
        "outputId": "afc1d73f-520f-484c-c738-fcfc55081e66"
      },
      "execution_count": null,
      "outputs": [
        {
          "output_type": "stream",
          "name": "stdout",
          "text": [
            "Minimum value of the image:  0.0\n",
            "Maximum value of the image:  1.0\n"
          ]
        }
      ]
    },
    {
      "cell_type": "code",
      "source": [
        "# One-hot the target data\n",
        "from tensorflow.keras.utils import to_categorical\n",
        "train_labels = to_categorical(train_labels)\n",
        "test_labels = to_categorical(test_labels)"
      ],
      "metadata": {
        "id": "8A6SV5PmN72G"
      },
      "execution_count": null,
      "outputs": []
    },
    {
      "cell_type": "code",
      "source": [
        "# Example label after\n",
        "train_labels[0]"
      ],
      "metadata": {
        "colab": {
          "base_uri": "https://localhost:8080/"
        },
        "id": "DWAlqko6N-zc",
        "outputId": "af32d94f-3d76-45e5-a005-5d379a6433ab"
      },
      "execution_count": null,
      "outputs": [
        {
          "output_type": "execute_result",
          "data": {
            "text/plain": [
              "array([0., 0., 0., 0., 0., 1., 0., 0., 0., 0.], dtype=float32)"
            ]
          },
          "metadata": {},
          "execution_count": 9
        }
      ]
    },
    {
      "cell_type": "markdown",
      "metadata": {
        "id": "borgvpZnbFQf"
      },
      "source": [
        "### 3. Build a model \n",
        "\n",
        "Build a five-fully connected hidden layers with 128 neurons each, *elu* as an activation function, and *he initialier* as a weight initialier function using `Sequential()`.\n",
        " \n",
        "The output is a probability for each target class using *softmax* as an activation function. We will use the *Adam optimizer* with the *cross-entropy loss function*."
      ]
    },
    {
      "cell_type": "code",
      "execution_count": null,
      "metadata": {
        "id": "1UQHj70jbFQg"
      },
      "outputs": [],
      "source": [
        "from keras import models\n",
        "from keras import layers"
      ]
    },
    {
      "cell_type": "code",
      "source": [
        "network = models.Sequential()\n",
        "\n",
        "# Add 5 fully connected hidden layers with 128 neurons\n",
        "network.add(layers.Dense(128, activation='elu', kernel_initializer='he_normal', input_shape=(28*28,)))\n",
        "network.add(layers.Dense(128, activation='elu', kernel_initializer='he_normal'))\n",
        "network.add(layers.Dense(128, activation='elu', kernel_initializer='he_normal'))\n",
        "network.add(layers.Dense(128, activation='elu', kernel_initializer='he_normal'))\n",
        "network.add(layers.Dense(128, activation='elu', kernel_initializer='he_normal'))\n",
        "\n",
        "# Add output layer for multiple classification, so the Softmax act. is used\n",
        "network.add(layers.Dense(10, activation='softmax'))"
      ],
      "metadata": {
        "id": "BuZGnnJHOOEP"
      },
      "execution_count": null,
      "outputs": []
    },
    {
      "cell_type": "code",
      "source": [
        "network.compile(optimizer='adam',\n",
        "               loss='categorical_crossentropy',\n",
        "               metrics=['accuracy'])"
      ],
      "metadata": {
        "id": "8cYaRPekPnnH"
      },
      "execution_count": null,
      "outputs": []
    },
    {
      "cell_type": "code",
      "source": [
        "network.summary()"
      ],
      "metadata": {
        "colab": {
          "base_uri": "https://localhost:8080/"
        },
        "id": "eqKhifLmQZmu",
        "outputId": "252e127e-7968-49d0-e7f7-a7e9b8d70a58"
      },
      "execution_count": null,
      "outputs": [
        {
          "output_type": "stream",
          "name": "stdout",
          "text": [
            "Model: \"sequential\"\n",
            "_________________________________________________________________\n",
            " Layer (type)                Output Shape              Param #   \n",
            "=================================================================\n",
            " dense (Dense)               (None, 128)               100480    \n",
            "                                                                 \n",
            " dense_1 (Dense)             (None, 128)               16512     \n",
            "                                                                 \n",
            " dense_2 (Dense)             (None, 128)               16512     \n",
            "                                                                 \n",
            " dense_3 (Dense)             (None, 128)               16512     \n",
            "                                                                 \n",
            " dense_4 (Dense)             (None, 128)               16512     \n",
            "                                                                 \n",
            " dense_5 (Dense)             (None, 10)                1290      \n",
            "                                                                 \n",
            "=================================================================\n",
            "Total params: 167,818\n",
            "Trainable params: 167,818\n",
            "Non-trainable params: 0\n",
            "_________________________________________________________________\n"
          ]
        }
      ]
    },
    {
      "cell_type": "markdown",
      "metadata": {
        "id": "sXlzipA9bFQj"
      },
      "source": [
        "### 4. Train the model\n",
        "\n",
        "We will train the model with 10 epochs and a batch size of 128.\n",
        "\n",
        "To avoid information leakage to the test set, which would lead to overfitting, we will divide the data into three sets: train, test, and validation. Hence, we will divide the training data into 90% train set and 10% validation set.\n",
        "\n",
        "Because the keras `validation_split` argument split the last 10% of data to be validation set, the target class may not be evenly distributed in validation set. As a result, we must use sklearn's `train_test_split` function to divide the data into train and validation sets.\n",
        "\n",
        "Hint: Use the parameter `stratify = y` in `train_test_split()`\n",
        "See http://scikit-learn.org/stable/modules/generated/sklearn.model_selection.train_test_split.html"
      ]
    },
    {
      "cell_type": "code",
      "execution_count": null,
      "metadata": {
        "id": "N62JfVhZbFQl",
        "colab": {
          "base_uri": "https://localhost:8080/"
        },
        "outputId": "550c2f59-87df-4a06-d868-92625fcb5376"
      },
      "outputs": [
        {
          "output_type": "stream",
          "name": "stdout",
          "text": [
            "train_x Feature shape: (54000, 784)\n",
            "validate_x Feature shape: (6000, 784)\n"
          ]
        }
      ],
      "source": [
        "from sklearn.model_selection import train_test_split\n",
        "\n",
        "### Split data ###\n",
        "train_x, validate_x, train_y, validate_y = train_test_split(train_images, train_labels, test_size=0.1, stratify=train_labels)\n",
        "print('train_x Feature shape: %s'%str(train_x.shape))\n",
        "print('validate_x Feature shape: %s'%str(validate_x.shape))\n",
        "##################"
      ]
    },
    {
      "cell_type": "markdown",
      "source": [
        "stratify using for seperate train test with same distribution"
      ],
      "metadata": {
        "id": "IreSQM9PZHeT"
      }
    },
    {
      "cell_type": "code",
      "execution_count": null,
      "metadata": {
        "colab": {
          "base_uri": "https://localhost:8080/"
        },
        "id": "dD9ViZ2WbFQn",
        "outputId": "6bf4f1a3-1827-4f2d-8921-c4a3adb8d800"
      },
      "outputs": [
        {
          "output_type": "stream",
          "name": "stdout",
          "text": [
            "Epoch 1/10\n",
            "422/422 [==============================] - 3s 4ms/step - loss: 0.2623 - accuracy: 0.9181 - val_loss: 0.1599 - val_accuracy: 0.9538\n",
            "Epoch 2/10\n",
            "422/422 [==============================] - 2s 5ms/step - loss: 0.1163 - accuracy: 0.9639 - val_loss: 0.1173 - val_accuracy: 0.9645\n",
            "Epoch 3/10\n",
            "422/422 [==============================] - 3s 6ms/step - loss: 0.0848 - accuracy: 0.9732 - val_loss: 0.1086 - val_accuracy: 0.9677\n",
            "Epoch 4/10\n",
            "422/422 [==============================] - 3s 7ms/step - loss: 0.0657 - accuracy: 0.9794 - val_loss: 0.1146 - val_accuracy: 0.9668\n",
            "Epoch 5/10\n",
            "422/422 [==============================] - 3s 7ms/step - loss: 0.0545 - accuracy: 0.9822 - val_loss: 0.1270 - val_accuracy: 0.9655\n",
            "Epoch 6/10\n",
            "422/422 [==============================] - 3s 6ms/step - loss: 0.0476 - accuracy: 0.9841 - val_loss: 0.0909 - val_accuracy: 0.9740\n",
            "Epoch 7/10\n",
            "422/422 [==============================] - 3s 7ms/step - loss: 0.0377 - accuracy: 0.9879 - val_loss: 0.0980 - val_accuracy: 0.9745\n",
            "Epoch 8/10\n",
            "422/422 [==============================] - 3s 6ms/step - loss: 0.0334 - accuracy: 0.9885 - val_loss: 0.1107 - val_accuracy: 0.9735\n",
            "Epoch 9/10\n",
            "422/422 [==============================] - 2s 5ms/step - loss: 0.0323 - accuracy: 0.9891 - val_loss: 0.0981 - val_accuracy: 0.9747\n",
            "Epoch 10/10\n",
            "422/422 [==============================] - 2s 4ms/step - loss: 0.0271 - accuracy: 0.9909 - val_loss: 0.1106 - val_accuracy: 0.9728\n"
          ]
        }
      ],
      "source": [
        "### Fit the model ###\n",
        "history = network.fit(train_x, train_y, batch_size=128, epochs=10, validation_data=(validate_x, validate_y))\n",
        "#####################"
      ]
    },
    {
      "cell_type": "markdown",
      "metadata": {
        "id": "xqVNtsgBbFQq"
      },
      "source": [
        "### 5. Evalute the model\n",
        "\n",
        "Consider the metric you want to use to evaluate/measure the performance of your model in order to answer the following questions:\n",
        "- Is the model overfit or underfit?\n",
        "- At what epoch/iteration does it converge or does the model overfit?\n",
        "- How does the model perform across all data classes? What is your model's overall performance?"
      ]
    },
    {
      "cell_type": "code",
      "source": [
        "%matplotlib inline"
      ],
      "metadata": {
        "id": "MDpzR-SbDdcG"
      },
      "execution_count": null,
      "outputs": []
    },
    {
      "cell_type": "code",
      "source": [
        "# The function argument is the model's history during the training process.\n",
        "def plot_loss_fn(history, rangeFrom=0, rangeTo=None):\n",
        "  if (rangeTo == None):\n",
        "    rangeTo = len(history.history['loss'])\n",
        "\n",
        "  loss = history.history['loss'][rangeFrom:rangeTo]\n",
        "  val_loss = history.history['val_loss'][rangeFrom:rangeTo]\n",
        "\n",
        "  epochs = range(rangeFrom + 1, rangeTo + 1)\n",
        "\n",
        "  plt.plot(epochs, loss, 'g', label='Training loss')\n",
        "  plt.plot(epochs, val_loss, 'b', label='Validation loss')\n",
        "  plt.title('Training and validation loss')\n",
        "  plt.xlabel('Epochs')\n",
        "  plt.ylabel('Loss')\n",
        "  plt.legend()\n",
        "    \n",
        "def plot_acc_fn(history):\n",
        "\n",
        "    acc = history.history['accuracy']\n",
        "    val_acc = history.history['val_accuracy']\n",
        "    \n",
        "    epochs = range(1, len(acc) + 1)\n",
        "\n",
        "    plt.plot(epochs, acc, 'g', label='Training acc')\n",
        "    plt.plot(epochs, val_acc, 'b', label='Validation acc')\n",
        "    plt.title('Training and validation accuracy')\n",
        "    plt.xlabel('Epochs')\n",
        "    plt.ylabel('Loss')\n",
        "    plt.legend()"
      ],
      "metadata": {
        "id": "ETz6fdyzDWns"
      },
      "execution_count": null,
      "outputs": []
    },
    {
      "cell_type": "code",
      "source": [
        "plot_loss_fn(history)"
      ],
      "metadata": {
        "colab": {
          "base_uri": "https://localhost:8080/",
          "height": 295
        },
        "id": "-GoV_FGTDgIN",
        "outputId": "49180adb-e2d3-4615-b2e1-5cf79d8b7582"
      },
      "execution_count": null,
      "outputs": [
        {
          "output_type": "display_data",
          "data": {
            "text/plain": [
              "<Figure size 432x288 with 1 Axes>"
            ],
            "image/png": "[encoded data removed]"
          },
          "metadata": {
            "needs_background": "light"
          }
        }
      ]
    },
    {
      "cell_type": "code",
      "source": [
        "plot_acc_fn(history)"
      ],
      "metadata": {
        "colab": {
          "base_uri": "https://localhost:8080/",
          "height": 295
        },
        "id": "MtPMrH4jEqjy",
        "outputId": "66cf63f0-9541-4dab-aa91-097d04f12386"
      },
      "execution_count": null,
      "outputs": [
        {
          "output_type": "display_data",
          "data": {
            "text/plain": [
              "<Figure size 432x288 with 1 Axes>"
            ],
            "image/png": "[encoded data removed]"
          },
          "metadata": {
            "needs_background": "light"
          }
        }
      ]
    },
    {
      "cell_type": "code",
      "execution_count": null,
      "metadata": {
        "colab": {
          "base_uri": "https://localhost:8080/"
        },
        "id": "3-SD-f9XbFQr",
        "outputId": "0b269c70-365d-4d7e-a6e4-ebd81e2d3166"
      },
      "outputs": [
        {
          "output_type": "stream",
          "name": "stdout",
          "text": [
            "1875/1875 [==============================] - 5s 3ms/step - loss: 0.0390 - accuracy: 0.9879\n",
            "Train Loss: 0.03900822624564171\n",
            "Train Accuracy: 0.9878833293914795\n",
            "313/313 [==============================] - 1s 2ms/step - loss: 0.1064 - accuracy: 0.9707\n",
            "Test Loss: 0.1063770055770874\n",
            "Test Accuracy: 0.9707000255584717\n"
          ]
        }
      ],
      "source": [
        "### Evaluate the model ###\n",
        "train_loss, train_acc = network.evaluate(train_images, train_labels)\n",
        "print('Train Loss: %s\\nTrain Accuracy: %s' % (train_loss, train_acc))\n",
        "\n",
        "test_loss, test_acc = network.evaluate(test_images, test_labels)\n",
        "print('Test Loss: %s\\nTest Accuracy: %s' % (test_loss, test_acc))\n",
        "\n",
        "##########################"
      ]
    },
    {
      "cell_type": "code",
      "source": [
        "# predict the data from test images\n",
        "y_pred = network.predict(test_images)     # predicting the data\n",
        "y_pred_labels = np.argmax(y_pred, axis=1) # convert predicted output to label\n",
        "y_actual = np.argmax(test_labels, axis=1) # convert one-hot to a single label"
      ],
      "metadata": {
        "id": "l-7wJOrQJnK4"
      },
      "execution_count": null,
      "outputs": []
    },
    {
      "cell_type": "code",
      "source": [
        "from sklearn.metrics import classification_report, confusion_matrix, ConfusionMatrixDisplay\n",
        "\n",
        "# classification report\n",
        "print('Classification Report')\n",
        "print(classification_report(y_actual, y_pred_labels, digits=4))\n",
        "\n",
        "# confusion matrix\n",
        "displayer = ConfusionMatrixDisplay(confusion_matrix(y_actual, y_pred_labels))\n",
        "displayer.plot()"
      ],
      "metadata": {
        "colab": {
          "base_uri": "https://localhost:8080/",
          "height": 609
        },
        "id": "HuooM_U9F7kx",
        "outputId": "09dbbcdb-a78c-4528-c799-03be4f226f89"
      },
      "execution_count": null,
      "outputs": [
        {
          "output_type": "stream",
          "name": "stdout",
          "text": [
            "Classification Report\n",
            "              precision    recall  f1-score   support\n",
            "\n",
            "           0     0.9828    0.9908    0.9868       980\n",
            "           1     0.9911    0.9815    0.9863      1135\n",
            "           2     0.9727    0.9680    0.9704      1032\n",
            "           3     0.9714    0.9743    0.9728      1010\n",
            "           4     0.9894    0.9542    0.9715       982\n",
            "           5     0.9665    0.9697    0.9681       892\n",
            "           6     0.9652    0.9843    0.9747       958\n",
            "           7     0.9869    0.9514    0.9688      1028\n",
            "           8     0.9115    0.9836    0.9462       974\n",
            "           9     0.9706    0.9495    0.9599      1009\n",
            "\n",
            "    accuracy                         0.9707     10000\n",
            "   macro avg     0.9708    0.9707    0.9705     10000\n",
            "weighted avg     0.9713    0.9707    0.9708     10000\n",
            "\n"
          ]
        },
        {
          "output_type": "execute_result",
          "data": {
            "text/plain": [
              "<sklearn.metrics._plot.confusion_matrix.ConfusionMatrixDisplay at 0x7fc2ceff8650>"
            ]
          },
          "metadata": {},
          "execution_count": 22
        },
        {
          "output_type": "display_data",
          "data": {
            "text/plain": [
              "<Figure size 432x288 with 2 Axes>"
            ],
            "image/png": "[encoded data removed]"
          },
          "metadata": {
            "needs_background": "light"
          }
        }
      ]
    },
    {
      "cell_type": "markdown",
      "source": [
        "####Answer and Discussion\n",
        "From 2 graphs of train and validation, model is slightly overfit at approximately 9th epoch (maybe not overfit). Moreover, train accuracy is slightly more than test accuracy. Overall performance of this model is good. Accuracy,  precison, recall, and f1-score of test set are above 0.95. \n"
      ],
      "metadata": {
        "id": "_By-472_Gg6K"
      }
    },
    {
      "cell_type": "markdown",
      "metadata": {
        "id": "MlI3w3wqbFQu"
      },
      "source": [
        "### 6. Tune the model \n",
        "\n",
        "Try to tune your model by: \n",
        "1. Try increasing the number of epochs to see how it affects your model? Does the results improve or become overfit?\n",
        "2. Apply an early stop. What do you get as a result? (See also https://chrisalbon.com/deep_learning/keras/neural_network_early_stopping/)\n",
        "4. Try adding regularizers l1 or l2 (or simutaneus l1, l2) to your model. How does it affect your model?\n",
        "5. Try adding dropout (any dropout rate) with every layer. What effect does it have on your model? Does it help in the reduction of overfit?\n",
        "\n",
        "*In the discussion section, discuss the result of these steps*\n",
        "\n",
        "After completing the preceding steps, **try to achieve the highest precision** by tuning the model using what you have already learned in class. You can experiment with changing the model's structure by increasing or decreasing the number of layers and neuron nodes in each layer. (Use only fully-connected layers for now; no other types of layers!)\n",
        "\n",
        "**The MNIST model's current highest precision is around 99.8%** (Just try as hard as you can; don't be concerned if you don't achieve this level of precision.)\n",
        "\n",
        "**In each tuning step, write down what you're doing and why**"
      ]
    },
    {
      "cell_type": "markdown",
      "source": [
        "####Tuning model that determined  \n",
        "\n",
        "\n",
        "\n",
        "\n",
        "\n",
        "\n"
      ],
      "metadata": {
        "id": "REJxqndepDWZ"
      }
    },
    {
      "cell_type": "code",
      "source": [
        "### New Model: Add L2 (square) Regularizers and Dropout ###\n",
        "\n",
        "from tensorflow.keras import regularizers\n",
        "\n",
        "network2 = models.Sequential()\n",
        "\n",
        "# Add 5 fully connected hidden layers with 128 neurons\n",
        "network2.add(layers.Dropout(0.2, input_shape=(28*28,)))\n",
        "network2.add(layers.Dense(128, activation='elu', kernel_initializer='he_normal', kernel_regularizer=regularizers.L2(0.01)))\n",
        "network2.add(layers.Dropout(0.2))\n",
        "network2.add(layers.Dense(128, activation='elu', kernel_initializer='he_normal', kernel_regularizer=regularizers.L2(0.01)))\n",
        "network2.add(layers.Dropout(0.2))\n",
        "network2.add(layers.Dense(128, activation='elu', kernel_initializer='he_normal', kernel_regularizer=regularizers.L2(0.01)))\n",
        "network2.add(layers.Dropout(0.2))\n",
        "network2.add(layers.Dense(128, activation='elu', kernel_initializer='he_normal', kernel_regularizer=regularizers.L2(0.01)))\n",
        "network2.add(layers.Dropout(0.2))\n",
        "network2.add(layers.Dense(128, activation='elu', kernel_initializer='he_normal', kernel_regularizer=regularizers.L2(0.01)))\n",
        "\n",
        "# Add output layer for multiple classification, so the Softmax act. is used\n",
        "network2.add(layers.Dropout(0.2))\n",
        "network2.add(layers.Dense(10, activation='softmax'))"
      ],
      "metadata": {
        "id": "XW_juR1Acc6_"
      },
      "execution_count": null,
      "outputs": []
    },
    {
      "cell_type": "code",
      "source": [
        "# compile model\n",
        "\n",
        "network2.compile(optimizer='adam',\n",
        "               loss='categorical_crossentropy',\n",
        "               metrics=['accuracy'])\n",
        "network2.summary()"
      ],
      "metadata": {
        "colab": {
          "base_uri": "https://localhost:8080/"
        },
        "id": "LpTzlZMElaEf",
        "outputId": "87b5eae2-c2c2-4a49-9aed-696bd67a2bdd"
      },
      "execution_count": null,
      "outputs": [
        {
          "output_type": "stream",
          "name": "stdout",
          "text": [
            "Model: \"sequential_1\"\n",
            "_________________________________________________________________\n",
            " Layer (type)                Output Shape              Param #   \n",
            "=================================================================\n",
            " dropout (Dropout)           (None, 784)               0         \n",
            "                                                                 \n",
            " dense_6 (Dense)             (None, 128)               100480    \n",
            "                                                                 \n",
            " dropout_1 (Dropout)         (None, 128)               0         \n",
            "                                                                 \n",
            " dense_7 (Dense)             (None, 128)               16512     \n",
            "                                                                 \n",
            " dropout_2 (Dropout)         (None, 128)               0         \n",
            "                                                                 \n",
            " dense_8 (Dense)             (None, 128)               16512     \n",
            "                                                                 \n",
            " dropout_3 (Dropout)         (None, 128)               0         \n",
            "                                                                 \n",
            " dense_9 (Dense)             (None, 128)               16512     \n",
            "                                                                 \n",
            " dropout_4 (Dropout)         (None, 128)               0         \n",
            "                                                                 \n",
            " dense_10 (Dense)            (None, 128)               16512     \n",
            "                                                                 \n",
            " dropout_5 (Dropout)         (None, 128)               0         \n",
            "                                                                 \n",
            " dense_11 (Dense)            (None, 10)                1290      \n",
            "                                                                 \n",
            "=================================================================\n",
            "Total params: 167,818\n",
            "Trainable params: 167,818\n",
            "Non-trainable params: 0\n",
            "_________________________________________________________________\n"
          ]
        }
      ]
    },
    {
      "cell_type": "code",
      "execution_count": null,
      "metadata": {
        "id": "8SIXC6klbFQu"
      },
      "outputs": [],
      "source": [
        "# call back functions for early stopping\n",
        "\n",
        "from keras.callbacks import EarlyStopping, ModelCheckpoint\n",
        "#callbacks = [EarlyStopping(monitor='val_loss', patience=2), ModelCheckpoint(filepath='best_model.h5', monitor='val_loss', save_best_only=True)]\n",
        "callbacks = [EarlyStopping(monitor='val_loss', patience=2)]\n"
      ]
    },
    {
      "cell_type": "code",
      "source": [
        "# fit model\n",
        "history2 = network2.fit(train_x, train_y, \n",
        "                      batch_size=128,      \n",
        "                      validation_data=(validate_x, validate_y), \n",
        "                      epochs=50,            # increase number of epochs\n",
        "                      callbacks=callbacks   # early stop\n",
        "                      )"
      ],
      "metadata": {
        "colab": {
          "base_uri": "https://localhost:8080/"
        },
        "id": "aqrfo_iiaQ1r",
        "outputId": "b380b88b-f9c9-464c-8a9a-9b34a325e1de"
      },
      "execution_count": null,
      "outputs": [
        {
          "output_type": "stream",
          "name": "stdout",
          "text": [
            "Epoch 1/50\n",
            "422/422 [==============================] - 3s 5ms/step - loss: 5.0201 - accuracy: 0.8064 - val_loss: 1.2768 - val_accuracy: 0.8965\n",
            "Epoch 2/50\n",
            "422/422 [==============================] - 2s 4ms/step - loss: 1.0335 - accuracy: 0.8606 - val_loss: 0.8201 - val_accuracy: 0.8905\n",
            "Epoch 3/50\n",
            "422/422 [==============================] - 2s 4ms/step - loss: 0.8842 - accuracy: 0.8638 - val_loss: 0.7722 - val_accuracy: 0.8977\n",
            "Epoch 4/50\n",
            "422/422 [==============================] - 2s 4ms/step - loss: 0.8518 - accuracy: 0.8679 - val_loss: 0.7355 - val_accuracy: 0.9033\n",
            "Epoch 5/50\n",
            "422/422 [==============================] - 2s 4ms/step - loss: 0.8327 - accuracy: 0.8683 - val_loss: 0.7271 - val_accuracy: 0.9068\n",
            "Epoch 6/50\n",
            "422/422 [==============================] - 2s 4ms/step - loss: 0.8138 - accuracy: 0.8719 - val_loss: 0.6968 - val_accuracy: 0.9157\n",
            "Epoch 7/50\n",
            "422/422 [==============================] - 2s 5ms/step - loss: 0.7999 - accuracy: 0.8732 - val_loss: 0.6820 - val_accuracy: 0.9080\n",
            "Epoch 8/50\n",
            "422/422 [==============================] - 2s 4ms/step - loss: 0.7896 - accuracy: 0.8724 - val_loss: 0.6717 - val_accuracy: 0.9135\n",
            "Epoch 9/50\n",
            "422/422 [==============================] - 2s 4ms/step - loss: 0.7753 - accuracy: 0.8746 - val_loss: 0.6629 - val_accuracy: 0.9098\n",
            "Epoch 10/50\n",
            "422/422 [==============================] - 2s 4ms/step - loss: 0.7676 - accuracy: 0.8757 - val_loss: 0.6711 - val_accuracy: 0.8970\n",
            "Epoch 11/50\n",
            "422/422 [==============================] - 2s 4ms/step - loss: 0.7601 - accuracy: 0.8750 - val_loss: 0.6509 - val_accuracy: 0.9122\n",
            "Epoch 12/50\n",
            "422/422 [==============================] - 2s 4ms/step - loss: 0.7531 - accuracy: 0.8749 - val_loss: 0.6517 - val_accuracy: 0.9078\n",
            "Epoch 13/50\n",
            "422/422 [==============================] - 2s 4ms/step - loss: 0.7516 - accuracy: 0.8741 - val_loss: 0.6437 - val_accuracy: 0.9167\n",
            "Epoch 14/50\n",
            "422/422 [==============================] - 2s 4ms/step - loss: 0.7418 - accuracy: 0.8769 - val_loss: 0.6400 - val_accuracy: 0.9113\n",
            "Epoch 15/50\n",
            "422/422 [==============================] - 2s 4ms/step - loss: 0.7399 - accuracy: 0.8757 - val_loss: 0.6487 - val_accuracy: 0.9073\n",
            "Epoch 16/50\n",
            "422/422 [==============================] - 2s 4ms/step - loss: 0.7313 - accuracy: 0.8760 - val_loss: 0.6050 - val_accuracy: 0.9180\n",
            "Epoch 17/50\n",
            "422/422 [==============================] - 2s 4ms/step - loss: 0.7265 - accuracy: 0.8764 - val_loss: 0.6136 - val_accuracy: 0.9167\n",
            "Epoch 18/50\n",
            "422/422 [==============================] - 2s 4ms/step - loss: 0.7260 - accuracy: 0.8771 - val_loss: 0.6253 - val_accuracy: 0.9042\n"
          ]
        }
      ]
    },
    {
      "cell_type": "code",
      "source": [
        "plot_loss_fn(history2)"
      ],
      "metadata": {
        "colab": {
          "base_uri": "https://localhost:8080/",
          "height": 295
        },
        "id": "UBYxdoBdpso1",
        "outputId": "ee634e9a-8dc5-4ff5-e2ab-93db4d976d2a"
      },
      "execution_count": null,
      "outputs": [
        {
          "output_type": "display_data",
          "data": {
            "text/plain": [
              "<Figure size 432x288 with 1 Axes>"
            ],
            "image/png": "[encoded data removed]"
          },
          "metadata": {
            "needs_background": "light"
          }
        }
      ]
    },
    {
      "cell_type": "code",
      "source": [
        "plot_acc_fn(history2)"
      ],
      "metadata": {
        "colab": {
          "base_uri": "https://localhost:8080/",
          "height": 295
        },
        "id": "ntJyYEzZp0fW",
        "outputId": "69b38ac7-d270-492d-b125-4ca37bdc58a0"
      },
      "execution_count": null,
      "outputs": [
        {
          "output_type": "display_data",
          "data": {
            "text/plain": [
              "<Figure size 432x288 with 1 Axes>"
            ],
            "image/png": "[encoded data removed]"
          },
          "metadata": {
            "needs_background": "light"
          }
        }
      ]
    },
    {
      "cell_type": "code",
      "source": [
        "### Evaluate the model ###\n",
        "train_loss, train_acc = network2.evaluate(train_images, train_labels)\n",
        "print('Train Loss: %s\\nTrain Accuracy: %s' % (train_loss, train_acc))\n",
        "\n",
        "test_loss, test_acc = network2.evaluate(test_images, test_labels)\n",
        "print('Test Loss: %s\\nTest Accuracy: %s' % (test_loss, test_acc))\n",
        "\n",
        "##########################"
      ],
      "metadata": {
        "colab": {
          "base_uri": "https://localhost:8080/"
        },
        "id": "GMwXHY0wSTmK",
        "outputId": "bbb74600-5e79-4e91-ac56-c06fafc274d9"
      },
      "execution_count": null,
      "outputs": [
        {
          "output_type": "stream",
          "name": "stdout",
          "text": [
            "1875/1875 [==============================] - 5s 3ms/step - loss: 0.6279 - accuracy: 0.9049\n",
            "Train Loss: 0.6278994083404541\n",
            "Train Accuracy: 0.9048833250999451\n",
            "313/313 [==============================] - 1s 3ms/step - loss: 0.6206 - accuracy: 0.9051\n",
            "Test Loss: 0.6205673813819885\n",
            "Test Accuracy: 0.9050999879837036\n"
          ]
        }
      ]
    },
    {
      "cell_type": "markdown",
      "source": [
        "After tuning with given methods and parameters, the model is fine, but accuracy and loss are worse than previous model. Increase number of epochs is improve the model. Early stopping, L2 regularization, and dropout can prevent overfitting. However, they could decrease performance of model, so balancing is the necessary concerned.\n"
      ],
      "metadata": {
        "id": "dSn_-lJTrcH_"
      }
    },
    {
      "cell_type": "markdown",
      "source": [
        "####Try to achieve the highest precision "
      ],
      "metadata": {
        "id": "vvbapN6AYhXR"
      }
    },
    {
      "cell_type": "code",
      "source": [
        "def plot_prec_fn(history, noPrec=None):\n",
        "    if (noPrec == None):\n",
        "        noPrec = 'precision'\n",
        "\n",
        "    valprec = 'val_' + noPrec\n",
        "\n",
        "    prec = history.history[noPrec]\n",
        "    val_prec = history.history[valprec]\n",
        "    \n",
        "    epochs = range(1, len(prec) + 1)\n",
        "\n",
        "    plt.plot(epochs, prec, 'g', label='Training prec')\n",
        "    plt.plot(epochs, val_prec, 'b', label='Validation prec')\n",
        "    plt.title('Training and validation precision')\n",
        "    plt.xlabel('Epochs')\n",
        "    plt.ylabel('Precision')\n",
        "    plt.legend()"
      ],
      "metadata": {
        "id": "R0pQp1D7qFvX"
      },
      "execution_count": null,
      "outputs": []
    },
    {
      "cell_type": "markdown",
      "source": [
        "#####1. Same / Metrtic is precision / No avoiding overfitting to see performance and overfitting"
      ],
      "metadata": {
        "id": "1Cj4uSN4b-38"
      }
    },
    {
      "cell_type": "code",
      "source": [
        "### New Model ###\n",
        "networkTune = models.Sequential()\n",
        "\n",
        "# Add 5 fully connected hidden layers with 128 neurons\n",
        "networkTune.add(layers.Dense(128, activation='elu', kernel_initializer='he_normal', input_shape=(28*28,)))\n",
        "networkTune.add(layers.Dense(128, activation='elu', kernel_initializer='he_normal'))\n",
        "networkTune.add(layers.Dense(128, activation='elu', kernel_initializer='he_normal'))\n",
        "networkTune.add(layers.Dense(128, activation='elu', kernel_initializer='he_normal'))\n",
        "networkTune.add(layers.Dense(128, activation='elu', kernel_initializer='he_normal'))\n",
        "\n",
        "# Add output layer for multiple classification, so the Softmax act. is used\n",
        "networkTune.add(layers.Dense(10, activation='softmax'))"
      ],
      "metadata": {
        "id": "Q4naoZ39Y5HZ"
      },
      "execution_count": null,
      "outputs": []
    },
    {
      "cell_type": "code",
      "source": [
        "import tensorflow as tf\n",
        "\n",
        "networkTune.compile(optimizer='adam',\n",
        "               loss='categorical_crossentropy',\n",
        "               metrics=[tf.keras.metrics.Precision()])"
      ],
      "metadata": {
        "id": "YbQfUWeQZw1a"
      },
      "execution_count": null,
      "outputs": []
    },
    {
      "cell_type": "code",
      "source": [
        "### Fit the model ###\n",
        "historyTune = networkTune.fit(train_x, train_y, batch_size=128, epochs=30, validation_data=(validate_x, validate_y))"
      ],
      "metadata": {
        "colab": {
          "base_uri": "https://localhost:8080/"
        },
        "id": "LRz_z2-LZw5_",
        "outputId": "d1f9baa3-4064-4040-da36-6a841a1c8e4a"
      },
      "execution_count": null,
      "outputs": [
        {
          "output_type": "stream",
          "name": "stdout",
          "text": [
            "Epoch 1/30\n",
            "422/422 [==============================] - 2s 5ms/step - loss: 0.2582 - precision: 0.9455 - val_loss: 0.1427 - val_precision: 0.9653\n",
            "Epoch 2/30\n",
            "422/422 [==============================] - 2s 4ms/step - loss: 0.1172 - precision: 0.9685 - val_loss: 0.1078 - val_precision: 0.9720\n",
            "Epoch 3/30\n",
            "422/422 [==============================] - 2s 4ms/step - loss: 0.0835 - precision: 0.9774 - val_loss: 0.0897 - val_precision: 0.9749\n",
            "Epoch 4/30\n",
            "422/422 [==============================] - 2s 4ms/step - loss: 0.0659 - precision: 0.9805 - val_loss: 0.0853 - val_precision: 0.9762\n",
            "Epoch 5/30\n",
            "422/422 [==============================] - 2s 4ms/step - loss: 0.0520 - precision: 0.9843 - val_loss: 0.0965 - val_precision: 0.9768\n",
            "Epoch 6/30\n",
            "422/422 [==============================] - 2s 4ms/step - loss: 0.0489 - precision: 0.9855 - val_loss: 0.1059 - val_precision: 0.9722\n",
            "Epoch 7/30\n",
            "422/422 [==============================] - 2s 4ms/step - loss: 0.0386 - precision: 0.9885 - val_loss: 0.0884 - val_precision: 0.9776\n",
            "Epoch 8/30\n",
            "422/422 [==============================] - 2s 4ms/step - loss: 0.0349 - precision: 0.9889 - val_loss: 0.1139 - val_precision: 0.9711\n",
            "Epoch 9/30\n",
            "422/422 [==============================] - 2s 5ms/step - loss: 0.0345 - precision: 0.9891 - val_loss: 0.0895 - val_precision: 0.9766\n",
            "Epoch 10/30\n",
            "422/422 [==============================] - 2s 6ms/step - loss: 0.0309 - precision: 0.9904 - val_loss: 0.0999 - val_precision: 0.9761\n",
            "Epoch 11/30\n",
            "422/422 [==============================] - 2s 4ms/step - loss: 0.0244 - precision: 0.9925 - val_loss: 0.1043 - val_precision: 0.9775\n",
            "Epoch 12/30\n",
            "422/422 [==============================] - 2s 4ms/step - loss: 0.0246 - precision: 0.9923 - val_loss: 0.1057 - val_precision: 0.9786\n",
            "Epoch 13/30\n",
            "422/422 [==============================] - 2s 4ms/step - loss: 0.0235 - precision: 0.9929 - val_loss: 0.1197 - val_precision: 0.9786\n",
            "Epoch 14/30\n",
            "422/422 [==============================] - 2s 4ms/step - loss: 0.0191 - precision: 0.9937 - val_loss: 0.1036 - val_precision: 0.9753\n",
            "Epoch 15/30\n",
            "422/422 [==============================] - 2s 4ms/step - loss: 0.0263 - precision: 0.9918 - val_loss: 0.0975 - val_precision: 0.9771\n",
            "Epoch 16/30\n",
            "422/422 [==============================] - 2s 4ms/step - loss: 0.0157 - precision: 0.9947 - val_loss: 0.1131 - val_precision: 0.9777\n",
            "Epoch 17/30\n",
            "422/422 [==============================] - 2s 4ms/step - loss: 0.0182 - precision: 0.9943 - val_loss: 0.1238 - val_precision: 0.9728\n",
            "Epoch 18/30\n",
            "422/422 [==============================] - 2s 4ms/step - loss: 0.0157 - precision: 0.9953 - val_loss: 0.1117 - val_precision: 0.9790\n",
            "Epoch 19/30\n",
            "422/422 [==============================] - 2s 4ms/step - loss: 0.0144 - precision: 0.9958 - val_loss: 0.1378 - val_precision: 0.9733\n",
            "Epoch 20/30\n",
            "422/422 [==============================] - 2s 4ms/step - loss: 0.0188 - precision: 0.9942 - val_loss: 0.1211 - val_precision: 0.9771\n",
            "Epoch 21/30\n",
            "422/422 [==============================] - 2s 4ms/step - loss: 0.0238 - precision: 0.9932 - val_loss: 0.1142 - val_precision: 0.9790\n",
            "Epoch 22/30\n",
            "422/422 [==============================] - 2s 4ms/step - loss: 0.0102 - precision: 0.9969 - val_loss: 0.1159 - val_precision: 0.9805\n",
            "Epoch 23/30\n",
            "422/422 [==============================] - 2s 4ms/step - loss: 0.0148 - precision: 0.9954 - val_loss: 0.1149 - val_precision: 0.9813\n",
            "Epoch 24/30\n",
            "422/422 [==============================] - 2s 4ms/step - loss: 0.0176 - precision: 0.9947 - val_loss: 0.1161 - val_precision: 0.9778\n",
            "Epoch 25/30\n",
            "422/422 [==============================] - 2s 4ms/step - loss: 0.0146 - precision: 0.9954 - val_loss: 0.1019 - val_precision: 0.9818\n",
            "Epoch 26/30\n",
            "422/422 [==============================] - 2s 4ms/step - loss: 0.0128 - precision: 0.9960 - val_loss: 0.1294 - val_precision: 0.9776\n",
            "Epoch 27/30\n",
            "422/422 [==============================] - 2s 4ms/step - loss: 0.0134 - precision: 0.9960 - val_loss: 0.1048 - val_precision: 0.9808\n",
            "Epoch 28/30\n",
            "422/422 [==============================] - 2s 4ms/step - loss: 0.0189 - precision: 0.9946 - val_loss: 0.1214 - val_precision: 0.9766\n",
            "Epoch 29/30\n",
            "422/422 [==============================] - 2s 4ms/step - loss: 0.0087 - precision: 0.9973 - val_loss: 0.1201 - val_precision: 0.9793\n",
            "Epoch 30/30\n",
            "422/422 [==============================] - 2s 4ms/step - loss: 0.0124 - precision: 0.9964 - val_loss: 0.1107 - val_precision: 0.9785\n"
          ]
        }
      ]
    },
    {
      "cell_type": "code",
      "source": [
        "plot_loss_fn(historyTune)"
      ],
      "metadata": {
        "colab": {
          "base_uri": "https://localhost:8080/",
          "height": 295
        },
        "id": "vqV17tqkZw96",
        "outputId": "4bd1118a-3072-4b88-eb2c-7bd44d599640"
      },
      "execution_count": null,
      "outputs": [
        {
          "output_type": "display_data",
          "data": {
            "text/plain": [
              "<Figure size 432x288 with 1 Axes>"
            ],
            "image/png": "[encoded data removed]"
          },
          "metadata": {
            "needs_background": "light"
          }
        }
      ]
    },
    {
      "cell_type": "code",
      "source": [
        "plot_prec_fn(historyTune)"
      ],
      "metadata": {
        "colab": {
          "base_uri": "https://localhost:8080/",
          "height": 295
        },
        "id": "MisVDQta5JR1",
        "outputId": "ca1a162c-8d63-4b60-c160-c6f6e04180d8"
      },
      "execution_count": null,
      "outputs": [
        {
          "output_type": "display_data",
          "data": {
            "text/plain": [
              "<Figure size 432x288 with 1 Axes>"
            ],
            "image/png": "[encoded data removed]"
          },
          "metadata": {
            "needs_background": "light"
          }
        }
      ]
    },
    {
      "cell_type": "markdown",
      "source": [
        "It's showed slightly overfitting. After approximate 15 epochs, performance of validation set is not improve much."
      ],
      "metadata": {
        "id": "ANFtCkp3cHI6"
      }
    },
    {
      "cell_type": "markdown",
      "source": [
        "#####2. Change train and validation to 80:20 / Using early stopping for avoiding overfitting\n",
        "THEN increase patient of early stopping (2 to 5)"
      ],
      "metadata": {
        "id": "XaufcHJ6c-mW"
      }
    },
    {
      "cell_type": "code",
      "execution_count": null,
      "metadata": {
        "colab": {
          "base_uri": "https://localhost:8080/"
        },
        "id": "VCBiB8Jr1Ayc",
        "outputId": "4e0e79ea-c6e2-431b-f96d-df3d448cf669"
      },
      "outputs": [
        {
          "output_type": "stream",
          "name": "stdout",
          "text": [
            "train_x Feature shape: (48000, 784)\n",
            "validate_x Feature shape: (12000, 784)\n"
          ]
        }
      ],
      "source": [
        "from sklearn.model_selection import train_test_split\n",
        "\n",
        "### Split data ###\n",
        "train_x, validate_x, train_y, validate_y = train_test_split(train_images, train_labels, test_size=0.2, stratify=train_labels)\n",
        "print('train_x Feature shape: %s'%str(train_x.shape))\n",
        "print('validate_x Feature shape: %s'%str(validate_x.shape))\n",
        "##################"
      ]
    },
    {
      "cell_type": "code",
      "source": [
        "### New Model ###\n",
        "networkTune = models.Sequential()\n",
        "\n",
        "# Add 5 fully connected hidden layers with 128 neurons\n",
        "networkTune.add(layers.Dense(128, activation='elu', kernel_initializer='he_normal', input_shape=(28*28,)))\n",
        "networkTune.add(layers.Dense(128, activation='elu', kernel_initializer='he_normal'))\n",
        "networkTune.add(layers.Dense(128, activation='elu', kernel_initializer='he_normal'))\n",
        "networkTune.add(layers.Dense(128, activation='elu', kernel_initializer='he_normal'))\n",
        "networkTune.add(layers.Dense(128, activation='elu', kernel_initializer='he_normal'))\n",
        "\n",
        "# Add output layer for multiple classification, so the Softmax act. is used\n",
        "networkTune.add(layers.Dense(10, activation='softmax'))"
      ],
      "metadata": {
        "id": "KqwKY6LKhXaL"
      },
      "execution_count": null,
      "outputs": []
    },
    {
      "cell_type": "code",
      "source": [
        "networkTune.compile(optimizer='adam',\n",
        "               loss='categorical_crossentropy',\n",
        "               metrics=[tf.keras.metrics.Precision()])"
      ],
      "metadata": {
        "id": "SEFsrOgXhwyj"
      },
      "execution_count": null,
      "outputs": []
    },
    {
      "cell_type": "code",
      "source": [
        "# call back functions for early stopping\n",
        "from keras.callbacks import EarlyStopping, ModelCheckpoint\n",
        "\n",
        "callbacks = [EarlyStopping(monitor='val_loss', patience=5)]"
      ],
      "metadata": {
        "id": "zMhNBpI01Ara"
      },
      "execution_count": null,
      "outputs": []
    },
    {
      "cell_type": "code",
      "source": [
        "### Fit the model ###\n",
        "historyTune = networkTune.fit(train_x, train_y, \n",
        "                              batch_size=128, \n",
        "                              epochs=30, \n",
        "                              validation_data=(validate_x, validate_y), \n",
        "                              callbacks=callbacks)"
      ],
      "metadata": {
        "colab": {
          "base_uri": "https://localhost:8080/"
        },
        "id": "8ELL2W_Uh1FJ",
        "outputId": "9044e8bb-ae0f-4f25-94c6-767cffd1e6b3"
      },
      "execution_count": null,
      "outputs": [
        {
          "output_type": "stream",
          "name": "stdout",
          "text": [
            "Epoch 1/30\n",
            "375/375 [==============================] - 2s 5ms/step - loss: 0.2770 - precision_1: 0.9423 - val_loss: 0.1593 - val_precision_1: 0.9583\n",
            "Epoch 2/30\n",
            "375/375 [==============================] - 2s 4ms/step - loss: 0.1219 - precision_1: 0.9674 - val_loss: 0.1418 - val_precision_1: 0.9599\n",
            "Epoch 3/30\n",
            "375/375 [==============================] - 2s 4ms/step - loss: 0.0880 - precision_1: 0.9754 - val_loss: 0.1556 - val_precision_1: 0.9586\n",
            "Epoch 4/30\n",
            "375/375 [==============================] - 2s 4ms/step - loss: 0.0667 - precision_1: 0.9807 - val_loss: 0.1034 - val_precision_1: 0.9733\n",
            "Epoch 5/30\n",
            "375/375 [==============================] - 2s 4ms/step - loss: 0.0533 - precision_1: 0.9839 - val_loss: 0.1079 - val_precision_1: 0.9715\n",
            "Epoch 6/30\n",
            "375/375 [==============================] - 2s 4ms/step - loss: 0.0467 - precision_1: 0.9860 - val_loss: 0.1140 - val_precision_1: 0.9714\n",
            "Epoch 7/30\n",
            "375/375 [==============================] - 2s 4ms/step - loss: 0.0355 - precision_1: 0.9889 - val_loss: 0.1086 - val_precision_1: 0.9740\n",
            "Epoch 8/30\n",
            "375/375 [==============================] - 2s 4ms/step - loss: 0.0349 - precision_1: 0.9885 - val_loss: 0.1106 - val_precision_1: 0.9747\n",
            "Epoch 9/30\n",
            "375/375 [==============================] - 2s 4ms/step - loss: 0.0359 - precision_1: 0.9888 - val_loss: 0.1219 - val_precision_1: 0.9706\n"
          ]
        }
      ]
    },
    {
      "cell_type": "code",
      "source": [
        "plot_loss_fn(historyTune)"
      ],
      "metadata": {
        "colab": {
          "base_uri": "https://localhost:8080/",
          "height": 295
        },
        "id": "iNXqF5fYiOEt",
        "outputId": "c3721244-e0c4-4b12-d827-b8013d1c1ebe"
      },
      "execution_count": null,
      "outputs": [
        {
          "output_type": "display_data",
          "data": {
            "text/plain": [
              "<Figure size 432x288 with 1 Axes>"
            ],
            "image/png": "[encoded data removed]"
          },
          "metadata": {
            "needs_background": "light"
          }
        }
      ]
    },
    {
      "cell_type": "code",
      "source": [
        "plot_prec_fn(historyTune, 'precision_1')"
      ],
      "metadata": {
        "colab": {
          "base_uri": "https://localhost:8080/",
          "height": 295
        },
        "id": "NlXmy3Yxpx_S",
        "outputId": "c15155d3-3f1f-4585-84dc-d3802827d47a"
      },
      "execution_count": null,
      "outputs": [
        {
          "output_type": "display_data",
          "data": {
            "text/plain": [
              "<Figure size 432x288 with 1 Axes>"
            ],
            "image/png": "[encoded data removed]"
          },
          "metadata": {
            "needs_background": "light"
          }
        }
      ]
    },
    {
      "cell_type": "markdown",
      "source": [
        "After using early stopping with patience equal 2, it's showed that performance of model didn't improve much while increasing number of epochs. Then changing patience to 5, the model is better."
      ],
      "metadata": {
        "id": "jOMW3UFbTtAn"
      }
    },
    {
      "cell_type": "markdown",
      "metadata": {
        "id": "FfjMAXtPbFQx"
      },
      "source": [
        "### 7. Final Evaluation\n",
        "\n",
        "After you've determined that your model is good enough to be deployed in an application, it's time to evaluate it with a test set to ensure that it generalizes well and does not overfit to the validation set."
      ]
    },
    {
      "cell_type": "code",
      "source": [
        "# predict the data from test images\n",
        "y_pred = networkTune.predict(test_images) # predicting the data\n",
        "y_pred_labels = np.argmax(y_pred, axis=1) # convert predicted output to label\n",
        "y_actual = np.argmax(test_labels, axis=1) # convert one-hot to a single label"
      ],
      "metadata": {
        "id": "QFojikOoDeGT"
      },
      "execution_count": null,
      "outputs": []
    },
    {
      "cell_type": "code",
      "source": [
        "from sklearn.metrics import classification_report, confusion_matrix, ConfusionMatrixDisplay\n",
        "\n",
        "# classification report\n",
        "print('Classification Report')\n",
        "print(classification_report(y_actual, y_pred_labels, digits=4))\n",
        "\n",
        "# confusion matrix\n",
        "displayer = ConfusionMatrixDisplay(confusion_matrix(y_actual, y_pred_labels))\n",
        "displayer.plot()"
      ],
      "metadata": {
        "colab": {
          "base_uri": "https://localhost:8080/",
          "height": 609
        },
        "id": "dTc-6CDODnd6",
        "outputId": "8cd801d1-e75f-40cf-a86a-e3eafaf2bca5"
      },
      "execution_count": null,
      "outputs": [
        {
          "output_type": "stream",
          "name": "stdout",
          "text": [
            "Classification Report\n",
            "              precision    recall  f1-score   support\n",
            "\n",
            "           0     0.9847    0.9857    0.9852       980\n",
            "           1     0.9938    0.9903    0.9921      1135\n",
            "           2     0.9625    0.9690    0.9657      1032\n",
            "           3     0.9462    0.9752    0.9605      1010\n",
            "           4     0.9785    0.9735    0.9760       982\n",
            "           5     0.9327    0.9787    0.9551       892\n",
            "           6     0.9768    0.9666    0.9717       958\n",
            "           7     0.9850    0.9582    0.9714      1028\n",
            "           8     0.9704    0.9425    0.9563       974\n",
            "           9     0.9700    0.9623    0.9662      1009\n",
            "\n",
            "    accuracy                         0.9704     10000\n",
            "   macro avg     0.9701    0.9702    0.9700     10000\n",
            "weighted avg     0.9707    0.9704    0.9704     10000\n",
            "\n"
          ]
        },
        {
          "output_type": "execute_result",
          "data": {
            "text/plain": [
              "<sklearn.metrics._plot.confusion_matrix.ConfusionMatrixDisplay at 0x7fc2aa4cc790>"
            ]
          },
          "metadata": {},
          "execution_count": 44
        },
        {
          "output_type": "display_data",
          "data": {
            "text/plain": [
              "<Figure size 432x288 with 2 Axes>"
            ],
            "image/png": "[encoded data removed]"
          },
          "metadata": {
            "needs_background": "light"
          }
        }
      ]
    },
    {
      "cell_type": "markdown",
      "metadata": {
        "id": "b-DR7_KWbFQ0"
      },
      "source": [
        "### Result & Discussion \n",
        "\n",
        "- Summarize the main findings from this lab. Discuss what you did, what you got as a result, and why (support your reason)"
      ]
    },
    {
      "cell_type": "markdown",
      "source": [
        "The main lesson from this lab is knowing methods and parameters for tuning model. While objective of model is increasing performance such as accuracy, overfitting is the necessary concerned. There are simple and complex methods that can deal with issue. The example are\n",
        "\n",
        "*   Seperating train, test, and validation set for underfitting and overfitting\n",
        "*   Number of epochs can improve model, but can cause overfitting too.\n",
        "*   Early stopping is the simple methods for avoiding overfitting, but the problem is \"What's the right time to stop?, What's the condition?\".\n",
        "*   Weight regularization (L1,L2) is the interested method that add penalty to loss function. However, I don't know much about using it. \"What kind of problems are suitable for weight regularization?\" \"What's difference of result when using various instance (L1, L2, L1L2)?\"\n",
        "*   Dropout is the direct method to avoid overfitting, but there are lots questions of how to use it. \"What's ratio to dropout?\" \"How many layer and which layers to apply dropout?\"\n",
        "\n",
        "In trying tunning section, I consequently tuning with parameters and methods that I known and can expected the outcome. After trying some, the final model is good enough and accepted. It's not likely overfitting. Precision of validation set and test set are above 0.97. \n",
        "\n",
        "\n",
        "\n",
        "\n",
        "\n",
        "\n",
        "\n"
      ],
      "metadata": {
        "id": "o0xMYiQcVLpJ"
      }
    },
    {
      "cell_type": "markdown",
      "metadata": {
        "id": "fW6u4OEmbFQ5"
      },
      "source": [
        "### 8. Play with your model\n",
        "\n",
        "1. Create a 28x28 pixel (any resolution) drawing in any drawing application (for example, Paint or Adobe Photoshop) with a black (#000000) background and white (#FFFFFF) paint.\n",
        "\n",
        "2. Draw three distinct single digit numbers from 0 to 9. The images should then be saved in PNG format.\n",
        "\n",
        "3. Install open-cv by\n",
        "    <br/>for local pc :\n",
        " (See https://pypi.org/project/opencv-python)  \n",
        "> `pip install opencv-python` <br/> or conda (See https://anaconda.org/conda-forge/opencv)\n",
        "\n",
        "    for colab use:\n",
        "```import cv2 as cv```\n",
        "\n",
        "4. Load your images to this IPython using the ```imread()``` function\n",
        "5. Preprocess the images in the same way you did during the development process.\n",
        "6. Feed your images to your best model.\n",
        "\n",
        "What class does your model predict? Is it correct? If not, why does it still get a wrong result when your model is more than 90% accurate?"
      ]
    },
    {
      "cell_type": "code",
      "execution_count": null,
      "metadata": {
        "id": "AAze8MBMbFQ6"
      },
      "outputs": [],
      "source": []
    },
    {
      "cell_type": "markdown",
      "metadata": {
        "id": "6hNnUrWobFQ8"
      },
      "source": [
        "### Challenges: Play with initializer\n",
        "\n",
        "- Build a two-layer neural network with any hyperparameter\n",
        "- Use or create a weight initializer function that sets all the weights to one. See: https://keras.io/initializers/\n",
        "- Discuss the results. What happened? and why?"
      ]
    },
    {
      "cell_type": "code",
      "execution_count": null,
      "metadata": {
        "id": "gSmsvxYAbFQ9",
        "colab": {
          "base_uri": "https://localhost:8080/"
        },
        "outputId": "7421152d-77e2-4d41-b991-c45a9a6e3fbc"
      },
      "outputs": [
        {
          "output_type": "stream",
          "name": "stdout",
          "text": [
            "Model: \"sequential_4\"\n",
            "_________________________________________________________________\n",
            " Layer (type)                Output Shape              Param #   \n",
            "=================================================================\n",
            " dense_24 (Dense)            (None, 128)               100480    \n",
            "                                                                 \n",
            " dense_25 (Dense)            (None, 10)                1290      \n",
            "                                                                 \n",
            "=================================================================\n",
            "Total params: 101,770\n",
            "Trainable params: 101,770\n",
            "Non-trainable params: 0\n",
            "_________________________________________________________________\n"
          ]
        }
      ],
      "source": [
        "### New Model ###\n",
        "network2L = models.Sequential()\n",
        "\n",
        "network2L.add(layers.Dense(128, activation='elu', kernel_initializer='ones', bias_initializer='ones', input_shape=(28*28,)))\n",
        "network2L.add(layers.Dense(10, activation='softmax'))\n",
        "\n",
        "network2L.summary()"
      ]
    },
    {
      "cell_type": "code",
      "source": [
        "network2L.compile(optimizer='adam',\n",
        "               loss='categorical_crossentropy',\n",
        "               metrics=['accuracy'])"
      ],
      "metadata": {
        "id": "B0RgsUP1gOAf"
      },
      "execution_count": null,
      "outputs": []
    },
    {
      "cell_type": "code",
      "source": [
        "history2L = network2L.fit(train_x, train_y, \n",
        "                              batch_size=128, \n",
        "                              epochs=10, \n",
        "                              validation_data=(validate_x, validate_y), \n",
        "                              )"
      ],
      "metadata": {
        "colab": {
          "base_uri": "https://localhost:8080/"
        },
        "id": "B8hlMuPagVHd",
        "outputId": "3a7f036b-c7cf-42b9-8530-8b7ca6c49def"
      },
      "execution_count": null,
      "outputs": [
        {
          "output_type": "stream",
          "name": "stdout",
          "text": [
            "Epoch 1/10\n",
            "375/375 [==============================] - 2s 3ms/step - loss: 5.2797 - accuracy: 0.7329 - val_loss: 0.6282 - val_accuracy: 0.7918\n",
            "Epoch 2/10\n",
            "375/375 [==============================] - 1s 3ms/step - loss: 0.4234 - accuracy: 0.8743 - val_loss: 0.4753 - val_accuracy: 0.8595\n",
            "Epoch 3/10\n",
            "375/375 [==============================] - 1s 3ms/step - loss: 0.4090 - accuracy: 0.8810 - val_loss: 0.4025 - val_accuracy: 0.8806\n",
            "Epoch 4/10\n",
            "375/375 [==============================] - 1s 3ms/step - loss: 0.4536 - accuracy: 0.8727 - val_loss: 0.4247 - val_accuracy: 0.8771\n",
            "Epoch 5/10\n",
            "375/375 [==============================] - 1s 3ms/step - loss: 0.4836 - accuracy: 0.8716 - val_loss: 0.3571 - val_accuracy: 0.9057\n",
            "Epoch 6/10\n",
            "375/375 [==============================] - 1s 3ms/step - loss: 0.4382 - accuracy: 0.8839 - val_loss: 0.3776 - val_accuracy: 0.9007\n",
            "Epoch 7/10\n",
            "375/375 [==============================] - 1s 3ms/step - loss: 0.4657 - accuracy: 0.8826 - val_loss: 0.5055 - val_accuracy: 0.8655\n",
            "Epoch 8/10\n",
            "375/375 [==============================] - 1s 3ms/step - loss: 0.5041 - accuracy: 0.8766 - val_loss: 0.4380 - val_accuracy: 0.8929\n",
            "Epoch 9/10\n",
            "375/375 [==============================] - 1s 3ms/step - loss: 0.4670 - accuracy: 0.8868 - val_loss: 0.4384 - val_accuracy: 0.8937\n",
            "Epoch 10/10\n",
            "375/375 [==============================] - 1s 3ms/step - loss: 0.5380 - accuracy: 0.8752 - val_loss: 0.5211 - val_accuracy: 0.8832\n"
          ]
        }
      ]
    },
    {
      "cell_type": "code",
      "source": [
        "plot_loss_fn(history2L)"
      ],
      "metadata": {
        "colab": {
          "base_uri": "https://localhost:8080/"
        },
        "id": "8oHNoMWSg5td",
        "outputId": "8aa8fa8e-7b64-47fd-d1eb-829cf2ea09e1"
      },
      "execution_count": null,
      "outputs": [
        {
          "output_type": "display_data",
          "data": {
            "text/plain": [
              "<Figure size 432x288 with 1 Axes>"
            ],
            "image/png": "[encoded data removed]"
          },
          "metadata": {
            "needs_background": "light"
          }
        }
      ]
    },
    {
      "cell_type": "markdown",
      "source": [
        "If setting all weightes to one, each unit will get signal equal to sum of inputs. All units in hidden layer are the same, so there is conflict about concept of neural network that different units are distinct characteristic and will determine the result. "
      ],
      "metadata": {
        "id": "_FBSiRKbv1Af"
      }
    }
  ],
  "metadata": {
    "colab": {
      "provenance": [],
      "collapsed_sections": [
        "xqVNtsgBbFQq"
      ],
      "include_colab_link": true
    },
    "kernelspec": {
      "display_name": "Python 3",
      "language": "python",
      "name": "python3"
    },
    "language_info": {
      "codemirror_mode": {
        "name": "ipython",
        "version": 3
      },
      "file_extension": ".py",
      "mimetype": "text/x-python",
      "name": "python",
      "nbconvert_exporter": "python",
      "pygments_lexer": "ipython3",
      "version": "3.8.5"
    },
    "accelerator": "GPU"
  },
  "nbformat": 4,
  "nbformat_minor": 0
}